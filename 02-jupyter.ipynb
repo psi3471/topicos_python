{
 "cells": [
  {
   "cell_type": "markdown",
   "id": "2398711f-0618-49b8-b630-0e7d18902a62",
   "metadata": {},
   "source": [
    "# 2 - Uso básico do JupyterLab"
   ]
  },
  {
   "cell_type": "markdown",
   "id": "e76ea55b-552e-4433-8fb9-8cf305b5bdee",
   "metadata": {},
   "source": [
    "## Guia de comandos\n",
    "\n",
    "- Comandos Jupyter Lab (fora do modo de edição):\n",
    "  - `a`: cria célula acima\n",
    "  - `b`: cria célula abaixo\n",
    "  - `m`: Configurar tipo de célula como markdown\n",
    "  - `y`: Configurar tipo de célula como código\n",
    "  - `Shift-l`: mostra numeração das linhas\n",
    "  - `dd`: Exclui célula\n",
    "\n",
    "- No modo de edição:\n",
    "  - `Ctrl-Enter`: Executa célula\n",
    "  - `Alt-Enter`: Executa célula e cria nova célula abaixo\n",
    "  - `<comando>?`: Exibe ajuda sobre um comando\n",
    "  - `Shift-tab`: Exibe docstring de uma função\n",
    "  - `Ctrl-/`: Comenta código selecionado\n",
    "\n",
    "- Comandos shell (iniciam com `!`):\n",
    "  - `!cd`: mostra diretório corrente (Windows)\n",
    "  - `!pwd`: mostra diretório corrente (Linux, Mac)\n",
    "  - `!dir`: lista arquivos dentro do diretório corrente (Linux, Mac)\n",
    "  - `!ls`: lista arquivos dentro do diretório corrente (Linux, Mac)\n",
    "  - `!pip install <pacote>`: instala um pacote pip no ambiente corrente\n",
    "\n",
    "- Comandos mágicos (iniciam com `%`):\n",
    "  - `%load_ext <extensão>`: carrega uma extensão\n",
    "  - `%debug`: abre o debugger no ponto onde ocorreu uma exceção\n",
    "    - Também é útil usar o `from IPython import embed; embed()`\n",
    "  - `%%black`: formata o código de uma célula usando o Black\n",
    "    - necessário ter instalado o pacote `blackcellmagic` e carregado a extensão no Jupyter com `%load_ext blackcellmagic`\n"
   ]
  },
  {
   "cell_type": "markdown",
   "id": "44ad230f-c819-4b0d-a99b-d889d623fc84",
   "metadata": {},
   "source": [
    "## Testes mostrados no vídeo\n",
    "(note que alguns comandos foram usados para dar exemplos de erros, por isso o não é possível executar o notebook completo)"
   ]
  },
  {
   "cell_type": "code",
   "execution_count": 2,
   "id": "dcbe3f6d-36ca-4375-b892-8558a34379b3",
   "metadata": {},
   "outputs": [
    {
     "name": "stdout",
     "output_type": "stream",
     "text": [
      "3.141592653589793\n"
     ]
    }
   ],
   "source": [
    "# Células de código - configurar com o comando y\n",
    "# Ctrl-Enter: Executa\n",
    "# Alt-Enter: Executa e cria uma célula abaixo\n",
    "import math\n",
    "print(math.pi)"
   ]
  },
  {
   "cell_type": "markdown",
   "id": "c6abe148-03ab-4a3b-96b7-65650fe406ca",
   "metadata": {},
   "source": [
    "Células Markdown - configurar com o comando `m`\n",
    "\n",
    "Ref. Markdown: https://www.markdownguide.org/cheat-sheet/"
   ]
  },
  {
   "cell_type": "markdown",
   "id": "9a1498d2-aa1f-4953-896b-b6af0537d61d",
   "metadata": {},
   "source": [
    "Títulos e subtítulos com `#`, `##`, etc\n",
    "\n",
    "Também podem ser configurados com os comandos `1` a `6`"
   ]
  },
  {
   "cell_type": "markdown",
   "id": "ed41e406-0213-4525-ad6b-59015bf1b34f",
   "metadata": {},
   "source": [
    "# Título"
   ]
  },
  {
   "cell_type": "markdown",
   "id": "fc3ad498-6017-48ed-a671-0cd9c26f4236",
   "metadata": {},
   "source": [
    "## Subtítulo"
   ]
  },
  {
   "cell_type": "markdown",
   "id": "50660821-37f2-48a4-9b70-5bd19504fac8",
   "metadata": {},
   "source": [
    "- Item 1\n",
    "- Item 2"
   ]
  },
  {
   "cell_type": "markdown",
   "id": "5a1215a7-73ad-440d-a48d-101a9a34b8ea",
   "metadata": {},
   "source": [
    "Comandos `a` e `b` criam células acima (*above*) e abaixo (*below*)"
   ]
  },
  {
   "cell_type": "markdown",
   "id": "b9fd13e5-53ef-47da-9f01-99b439cb609d",
   "metadata": {},
   "source": [
    "LaTeX: $\\Delta=b^2-4ac$\n",
    "\n",
    "$$x=\\frac{-b \\pm \\sqrt{\\Delta}}{2a}$$"
   ]
  },
  {
   "cell_type": "markdown",
   "id": "d1ba9d1e-bd82-4834-a615-e597269579c4",
   "metadata": {},
   "source": [
    "Ajuda com `?` e Shift-tab"
   ]
  },
  {
   "cell_type": "code",
   "execution_count": 5,
   "id": "05285b8e-5c32-4a82-9eef-7df0c3d1251a",
   "metadata": {},
   "outputs": [
    {
     "data": {
      "text/plain": [
       "\u001b[0;31mSignature:\u001b[0m\n",
       "\u001b[0mopen\u001b[0m\u001b[0;34m(\u001b[0m\u001b[0;34m\u001b[0m\n",
       "\u001b[0;34m\u001b[0m    \u001b[0mfile\u001b[0m\u001b[0;34m,\u001b[0m\u001b[0;34m\u001b[0m\n",
       "\u001b[0;34m\u001b[0m    \u001b[0mmode\u001b[0m\u001b[0;34m=\u001b[0m\u001b[0;34m'r'\u001b[0m\u001b[0;34m,\u001b[0m\u001b[0;34m\u001b[0m\n",
       "\u001b[0;34m\u001b[0m    \u001b[0mbuffering\u001b[0m\u001b[0;34m=\u001b[0m\u001b[0;34m-\u001b[0m\u001b[0;36m1\u001b[0m\u001b[0;34m,\u001b[0m\u001b[0;34m\u001b[0m\n",
       "\u001b[0;34m\u001b[0m    \u001b[0mencoding\u001b[0m\u001b[0;34m=\u001b[0m\u001b[0;32mNone\u001b[0m\u001b[0;34m,\u001b[0m\u001b[0;34m\u001b[0m\n",
       "\u001b[0;34m\u001b[0m    \u001b[0merrors\u001b[0m\u001b[0;34m=\u001b[0m\u001b[0;32mNone\u001b[0m\u001b[0;34m,\u001b[0m\u001b[0;34m\u001b[0m\n",
       "\u001b[0;34m\u001b[0m    \u001b[0mnewline\u001b[0m\u001b[0;34m=\u001b[0m\u001b[0;32mNone\u001b[0m\u001b[0;34m,\u001b[0m\u001b[0;34m\u001b[0m\n",
       "\u001b[0;34m\u001b[0m    \u001b[0mclosefd\u001b[0m\u001b[0;34m=\u001b[0m\u001b[0;32mTrue\u001b[0m\u001b[0;34m,\u001b[0m\u001b[0;34m\u001b[0m\n",
       "\u001b[0;34m\u001b[0m    \u001b[0mopener\u001b[0m\u001b[0;34m=\u001b[0m\u001b[0;32mNone\u001b[0m\u001b[0;34m,\u001b[0m\u001b[0;34m\u001b[0m\n",
       "\u001b[0;34m\u001b[0m\u001b[0;34m)\u001b[0m\u001b[0;34m\u001b[0m\u001b[0;34m\u001b[0m\u001b[0m\n",
       "\u001b[0;31mDocstring:\u001b[0m\n",
       "Open file and return a stream.  Raise OSError upon failure.\n",
       "\n",
       "file is either a text or byte string giving the name (and the path\n",
       "if the file isn't in the current working directory) of the file to\n",
       "be opened or an integer file descriptor of the file to be\n",
       "wrapped. (If a file descriptor is given, it is closed when the\n",
       "returned I/O object is closed, unless closefd is set to False.)\n",
       "\n",
       "mode is an optional string that specifies the mode in which the file\n",
       "is opened. It defaults to 'r' which means open for reading in text\n",
       "mode.  Other common values are 'w' for writing (truncating the file if\n",
       "it already exists), 'x' for creating and writing to a new file, and\n",
       "'a' for appending (which on some Unix systems, means that all writes\n",
       "append to the end of the file regardless of the current seek position).\n",
       "In text mode, if encoding is not specified the encoding used is platform\n",
       "dependent: locale.getpreferredencoding(False) is called to get the\n",
       "current locale encoding. (For reading and writing raw bytes use binary\n",
       "mode and leave encoding unspecified.) The available modes are:\n",
       "\n",
       "========= ===============================================================\n",
       "Character Meaning\n",
       "--------- ---------------------------------------------------------------\n",
       "'r'       open for reading (default)\n",
       "'w'       open for writing, truncating the file first\n",
       "'x'       create a new file and open it for writing\n",
       "'a'       open for writing, appending to the end of the file if it exists\n",
       "'b'       binary mode\n",
       "'t'       text mode (default)\n",
       "'+'       open a disk file for updating (reading and writing)\n",
       "'U'       universal newline mode (deprecated)\n",
       "========= ===============================================================\n",
       "\n",
       "The default mode is 'rt' (open for reading text). For binary random\n",
       "access, the mode 'w+b' opens and truncates the file to 0 bytes, while\n",
       "'r+b' opens the file without truncation. The 'x' mode implies 'w' and\n",
       "raises an `FileExistsError` if the file already exists.\n",
       "\n",
       "Python distinguishes between files opened in binary and text modes,\n",
       "even when the underlying operating system doesn't. Files opened in\n",
       "binary mode (appending 'b' to the mode argument) return contents as\n",
       "bytes objects without any decoding. In text mode (the default, or when\n",
       "'t' is appended to the mode argument), the contents of the file are\n",
       "returned as strings, the bytes having been first decoded using a\n",
       "platform-dependent encoding or using the specified encoding if given.\n",
       "\n",
       "'U' mode is deprecated and will raise an exception in future versions\n",
       "of Python.  It has no effect in Python 3.  Use newline to control\n",
       "universal newlines mode.\n",
       "\n",
       "buffering is an optional integer used to set the buffering policy.\n",
       "Pass 0 to switch buffering off (only allowed in binary mode), 1 to select\n",
       "line buffering (only usable in text mode), and an integer > 1 to indicate\n",
       "the size of a fixed-size chunk buffer.  When no buffering argument is\n",
       "given, the default buffering policy works as follows:\n",
       "\n",
       "* Binary files are buffered in fixed-size chunks; the size of the buffer\n",
       "  is chosen using a heuristic trying to determine the underlying device's\n",
       "  \"block size\" and falling back on `io.DEFAULT_BUFFER_SIZE`.\n",
       "  On many systems, the buffer will typically be 4096 or 8192 bytes long.\n",
       "\n",
       "* \"Interactive\" text files (files for which isatty() returns True)\n",
       "  use line buffering.  Other text files use the policy described above\n",
       "  for binary files.\n",
       "\n",
       "encoding is the name of the encoding used to decode or encode the\n",
       "file. This should only be used in text mode. The default encoding is\n",
       "platform dependent, but any encoding supported by Python can be\n",
       "passed.  See the codecs module for the list of supported encodings.\n",
       "\n",
       "errors is an optional string that specifies how encoding errors are to\n",
       "be handled---this argument should not be used in binary mode. Pass\n",
       "'strict' to raise a ValueError exception if there is an encoding error\n",
       "(the default of None has the same effect), or pass 'ignore' to ignore\n",
       "errors. (Note that ignoring encoding errors can lead to data loss.)\n",
       "See the documentation for codecs.register or run 'help(codecs.Codec)'\n",
       "for a list of the permitted encoding error strings.\n",
       "\n",
       "newline controls how universal newlines works (it only applies to text\n",
       "mode). It can be None, '', '\\n', '\\r', and '\\r\\n'.  It works as\n",
       "follows:\n",
       "\n",
       "* On input, if newline is None, universal newlines mode is\n",
       "  enabled. Lines in the input can end in '\\n', '\\r', or '\\r\\n', and\n",
       "  these are translated into '\\n' before being returned to the\n",
       "  caller. If it is '', universal newline mode is enabled, but line\n",
       "  endings are returned to the caller untranslated. If it has any of\n",
       "  the other legal values, input lines are only terminated by the given\n",
       "  string, and the line ending is returned to the caller untranslated.\n",
       "\n",
       "* On output, if newline is None, any '\\n' characters written are\n",
       "  translated to the system default line separator, os.linesep. If\n",
       "  newline is '' or '\\n', no translation takes place. If newline is any\n",
       "  of the other legal values, any '\\n' characters written are translated\n",
       "  to the given string.\n",
       "\n",
       "If closefd is False, the underlying file descriptor will be kept open\n",
       "when the file is closed. This does not work when a file name is given\n",
       "and must be True in that case.\n",
       "\n",
       "A custom opener can be used by passing a callable as *opener*. The\n",
       "underlying file descriptor for the file object is then obtained by\n",
       "calling *opener* with (*file*, *flags*). *opener* must return an open\n",
       "file descriptor (passing os.open as *opener* results in functionality\n",
       "similar to passing None).\n",
       "\n",
       "open() returns a file object whose type depends on the mode, and\n",
       "through which the standard file operations such as reading and writing\n",
       "are performed. When open() is used to open a file in a text mode ('w',\n",
       "'r', 'wt', 'rt', etc.), it returns a TextIOWrapper. When used to open\n",
       "a file in a binary mode, the returned class varies: in read binary\n",
       "mode, it returns a BufferedReader; in write binary and append binary\n",
       "modes, it returns a BufferedWriter, and in read/write mode, it returns\n",
       "a BufferedRandom.\n",
       "\n",
       "It is also possible to use a string or bytearray as a file for both\n",
       "reading and writing. For strings StringIO can be used like a file\n",
       "opened in a text mode, and for bytes a BytesIO can be used like a file\n",
       "opened in a binary mode.\n",
       "\u001b[0;31mType:\u001b[0m      function"
      ]
     },
     "metadata": {},
     "output_type": "display_data"
    }
   ],
   "source": [
    "open?"
   ]
  },
  {
   "cell_type": "markdown",
   "id": "5f99928d-4ed9-4005-aa4e-ad58f235c2aa",
   "metadata": {},
   "source": [
    "Excluir células com `dd`"
   ]
  },
  {
   "cell_type": "raw",
   "id": "64f00859-04ce-4517-9ad7-bf0380d64fe0",
   "metadata": {},
   "source": [
    "%magic"
   ]
  },
  {
   "cell_type": "code",
   "execution_count": 3,
   "id": "a20e4613-8e75-440b-9d7b-1f494e23a41c",
   "metadata": {},
   "outputs": [
    {
     "name": "stdout",
     "output_type": "stream",
     "text": [
      "The solution are (-3+0j) and (-2+0j)\n"
     ]
    }
   ],
   "source": [
    "# Solve the quadratic equation ax**2 + bx + c = 0\n",
    "\n",
    "# import complex math module\n",
    "import cmath\n",
    "\n",
    "a = 1\n",
    "b = 5\n",
    "c = 6\n",
    "\n",
    "# calculate the discriminant\n",
    "d = (b**2) - (4*a*c)\n",
    "\n",
    "# find two solutions\n",
    "sol1 = (-b-cmath.sqrt(d))/(2*a)\n",
    "sol2 = (-b+cmath.sqrt(d))/(2*a)\n",
    "\n",
    "print('The solutions are {0} and {1}'.format(sol1,sol2))"
   ]
  },
  {
   "cell_type": "markdown",
   "id": "fa5d42c2-2d6a-431e-901b-06c6d1bebc37",
   "metadata": {},
   "source": [
    "Comentários com Ctrl-/"
   ]
  },
  {
   "cell_type": "code",
   "execution_count": 4,
   "id": "91ec5152-6ed5-43b4-9ad1-3685919eea0d",
   "metadata": {},
   "outputs": [],
   "source": [
    "# Solve the quadratic equation ax**2 + bx + c = 0\n",
    "\n",
    "# import complex math module\n",
    "import cmath\n",
    "\n",
    "a = 1\n",
    "b = 5\n",
    "c = 6\n",
    "\n",
    "# # calculate the discriminant\n",
    "# d = (b**2) - (4*a*c)\n",
    "\n",
    "# # find two solutions\n",
    "# sol1 = (-b-cmath.sqrt(d))/(2*a)\n",
    "# sol2 = (-b+cmath.sqrt(d))/(2*a)\n",
    "\n",
    "# print('The solution are {0} and {1}'.format(sol1,sol2))"
   ]
  },
  {
   "cell_type": "markdown",
   "id": "cd230f6e-a189-4784-b5a2-a353dfcd6b4e",
   "metadata": {},
   "source": [
    "- Mostrar números de linha com Shift-L"
   ]
  },
  {
   "cell_type": "code",
   "execution_count": 5,
   "id": "d866748b-1411-4bb1-9a71-5812077e4cd6",
   "metadata": {},
   "outputs": [
    {
     "ename": "NameError",
     "evalue": "name 'e' is not defined",
     "output_type": "error",
     "traceback": [
      "\u001b[0;31m---------------------------------------------------------------------------\u001b[0m",
      "\u001b[0;31mNameError\u001b[0m                                 Traceback (most recent call last)",
      "Input \u001b[0;32mIn [5]\u001b[0m, in \u001b[0;36m<cell line: 11>\u001b[0;34m()\u001b[0m\n\u001b[1;32m      8\u001b[0m c \u001b[38;5;241m=\u001b[39m \u001b[38;5;241m6\u001b[39m\n\u001b[1;32m     10\u001b[0m \u001b[38;5;66;03m# calculate the discriminant\u001b[39;00m\n\u001b[0;32m---> 11\u001b[0m d \u001b[38;5;241m=\u001b[39m (b\u001b[38;5;241m*\u001b[39m\u001b[38;5;241m*\u001b[39m\u001b[38;5;241m2\u001b[39m) \u001b[38;5;241m-\u001b[39m (\u001b[38;5;241m4\u001b[39m\u001b[38;5;241m*\u001b[39ma\u001b[38;5;241m*\u001b[39m\u001b[43me\u001b[49m)\n\u001b[1;32m     13\u001b[0m \u001b[38;5;66;03m# find two solutions\u001b[39;00m\n\u001b[1;32m     14\u001b[0m sol1 \u001b[38;5;241m=\u001b[39m (\u001b[38;5;241m-\u001b[39mb\u001b[38;5;241m-\u001b[39mcmath\u001b[38;5;241m.\u001b[39msqrt(d))\u001b[38;5;241m/\u001b[39m(\u001b[38;5;241m2\u001b[39m\u001b[38;5;241m*\u001b[39ma)\n",
      "\u001b[0;31mNameError\u001b[0m: name 'e' is not defined"
     ]
    }
   ],
   "source": [
    "# Solve the quadratic equation ax**2 + bx + c = 0\n",
    "\n",
    "# import complex math module\n",
    "import cmath\n",
    "\n",
    "a = 1\n",
    "b = 5\n",
    "c = 6\n",
    "\n",
    "# calculate the discriminant\n",
    "d = (b**2) - (4*a*e)\n",
    "\n",
    "# find two solutions\n",
    "sol1 = (-b-cmath.sqrt(d))/(2*a)\n",
    "sol2 = (-b+cmath.sqrt(d))/(2*a)\n",
    "\n",
    "print('The solution are {0} and {1}'.format(sol1,sol2))"
   ]
  },
  {
   "cell_type": "code",
   "execution_count": 6,
   "id": "f62bd504-6fd3-49fd-b60c-7a4e0df86da1",
   "metadata": {},
   "outputs": [
    {
     "name": "stdout",
     "output_type": "stream",
     "text": [
      "> \u001b[0;32m/tmp/ipykernel_11736/2207177629.py\u001b[0m(11)\u001b[0;36m<cell line: 11>\u001b[0;34m()\u001b[0m\n",
      "\u001b[0;32m      9 \u001b[0;31m\u001b[0;34m\u001b[0m\u001b[0m\n",
      "\u001b[0m\u001b[0;32m     10 \u001b[0;31m\u001b[0;31m# calculate the discriminant\u001b[0m\u001b[0;34m\u001b[0m\u001b[0;34m\u001b[0m\u001b[0m\n",
      "\u001b[0m\u001b[0;32m---> 11 \u001b[0;31m\u001b[0md\u001b[0m \u001b[0;34m=\u001b[0m \u001b[0;34m(\u001b[0m\u001b[0mb\u001b[0m\u001b[0;34m**\u001b[0m\u001b[0;36m2\u001b[0m\u001b[0;34m)\u001b[0m \u001b[0;34m-\u001b[0m \u001b[0;34m(\u001b[0m\u001b[0;36m4\u001b[0m\u001b[0;34m*\u001b[0m\u001b[0ma\u001b[0m\u001b[0;34m*\u001b[0m\u001b[0me\u001b[0m\u001b[0;34m)\u001b[0m\u001b[0;34m\u001b[0m\u001b[0;34m\u001b[0m\u001b[0m\n",
      "\u001b[0m\u001b[0;32m     12 \u001b[0;31m\u001b[0;34m\u001b[0m\u001b[0m\n",
      "\u001b[0m\u001b[0;32m     13 \u001b[0;31m\u001b[0;31m# find two solutions\u001b[0m\u001b[0;34m\u001b[0m\u001b[0;34m\u001b[0m\u001b[0m\n",
      "\u001b[0m\n"
     ]
    },
    {
     "name": "stdin",
     "output_type": "stream",
     "text": [
      "ipdb>  quit\n"
     ]
    }
   ],
   "source": [
    "%debug"
   ]
  },
  {
   "cell_type": "markdown",
   "id": "a245c923-f815-444b-aa9c-34f06cd1c656",
   "metadata": {},
   "source": [
    "Debug também com:\n",
    "```\n",
    "from IPython import embed; embed()\n",
    "```"
   ]
  },
  {
   "cell_type": "code",
   "execution_count": 7,
   "id": "ed05891d-ece7-41f7-ae31-ae01bbbd4021",
   "metadata": {},
   "outputs": [
    {
     "name": "stderr",
     "output_type": "stream",
     "text": [
      "/home/renato/.pyenv/versions/miniconda3-4.7.12/envs/main/lib/python3.10/site-packages/IPython/core/interactiveshell.py:852: UserWarning: Attempting to work in a virtualenv. If you encounter problems, please install IPython inside the virtualenv.\n",
      "  warn(\n"
     ]
    },
    {
     "name": "stdout",
     "output_type": "stream",
     "text": [
      "Python 3.10.5 | packaged by conda-forge | (main, Jun 14 2022, 07:04:59) [GCC 10.3.0]\n",
      "Type 'copyright', 'credits' or 'license' for more information\n",
      "IPython 8.4.0 -- An enhanced Interactive Python. Type '?' for help.\n",
      "\n"
     ]
    },
    {
     "name": "stdin",
     "output_type": "stream",
     "text": [
      "In [1]:  quit\n"
     ]
    },
    {
     "name": "stdout",
     "output_type": "stream",
     "text": [
      "\n",
      "The solution are (-3+0j) and (-2+0j)\n"
     ]
    }
   ],
   "source": [
    "# Solve the quadratic equation ax**2 + bx + c = 0\n",
    "\n",
    "# import complex math module\n",
    "import cmath\n",
    "\n",
    "a = 1\n",
    "b = 5\n",
    "c = 6\n",
    "\n",
    "# calculate the discriminant\n",
    "d = (b**2) - (4*a*c)\n",
    "\n",
    "from IPython import embed; embed()\n",
    "\n",
    "# find two solutions\n",
    "sol1 = (-b-cmath.sqrt(d))/(2*a)\n",
    "sol2 = (-b+cmath.sqrt(d))/(2*a)\n",
    "\n",
    "print('The solution are {0} and {1}'.format(sol1,sol2))"
   ]
  },
  {
   "cell_type": "markdown",
   "id": "b81360e7-32c6-45c4-a26b-9590da958726",
   "metadata": {},
   "source": [
    "Comandos Shell:"
   ]
  },
  {
   "cell_type": "code",
   "execution_count": 8,
   "id": "c119477d-ad28-496f-9cef-7a97abca2f93",
   "metadata": {
    "tags": []
   },
   "outputs": [
    {
     "name": "stdout",
     "output_type": "stream",
     "text": [
      "/home/renato/repo/USP/Pesquisador Colaborador 2021/Python Videos/02 - Jupyter\n"
     ]
    }
   ],
   "source": [
    "!pwd"
   ]
  },
  {
   "cell_type": "code",
   "execution_count": 9,
   "id": "8760ef98-1592-4518-b288-e290b2e3d248",
   "metadata": {},
   "outputs": [
    {
     "name": "stdout",
     "output_type": "stream",
     "text": [
      "Jupyter.ipynb  notas.org\n"
     ]
    }
   ],
   "source": [
    "!ls"
   ]
  },
  {
   "cell_type": "raw",
   "id": "176f0162-4949-4eee-826c-38ba5b75af39",
   "metadata": {},
   "source": [
    "!pip install blackcellmagic"
   ]
  },
  {
   "cell_type": "markdown",
   "id": "482c68a4-5ae5-4a97-9b8f-e59421e5708e",
   "metadata": {},
   "source": [
    "- Reiniciar kernel\n",
    "- Formatar código com \n",
    "\n",
    "```\n",
    "%load_ext blackcellmagic\n",
    "%%black\n",
    "```"
   ]
  },
  {
   "cell_type": "code",
   "execution_count": 10,
   "id": "e1e8a379-a307-45fd-aaec-f68d1b398a1c",
   "metadata": {},
   "outputs": [],
   "source": [
    "%load_ext blackcellmagic"
   ]
  },
  {
   "cell_type": "code",
   "execution_count": 11,
   "id": "67669486-1a20-41d2-9860-6e32c6df20a8",
   "metadata": {},
   "outputs": [],
   "source": [
    "d={'a':1, 'b':2, 'c':3, 'd':4}"
   ]
  },
  {
   "cell_type": "code",
   "execution_count": 12,
   "id": "e5995249-05c6-435e-9f5f-40425817800a",
   "metadata": {},
   "outputs": [],
   "source": [
    "d = {\"a\": 1, \"b\": 2, \"c\": 3, \"d\": 4}"
   ]
  },
  {
   "cell_type": "code",
   "execution_count": 15,
   "id": "2f4439e7-39ab-48ae-90e1-3f2d73083b32",
   "metadata": {},
   "outputs": [],
   "source": [
    "d={'a':1, 'b':2, 'c':3, 'd':4, 'e':5, 'f':6, 'g':7, 'h':8, 'j':9, 'j':10, 'k':11, 'l':12, 'm':13, 'n':14, 'o':15, 'p':16, 'q':17, 'r':18, 's':19, 't':20, 'u':21}"
   ]
  },
  {
   "cell_type": "code",
   "execution_count": 16,
   "id": "4f154e60-ef05-4f8f-9e32-e27798d1f3a4",
   "metadata": {},
   "outputs": [],
   "source": [
    "d = {\n",
    "    \"a\": 1,\n",
    "    \"b\": 2,\n",
    "    \"c\": 3,\n",
    "    \"d\": 4,\n",
    "    \"e\": 5,\n",
    "    \"f\": 6,\n",
    "    \"g\": 7,\n",
    "    \"h\": 8,\n",
    "    \"j\": 9,\n",
    "    \"j\": 10,\n",
    "    \"k\": 11,\n",
    "    \"l\": 12,\n",
    "    \"m\": 13,\n",
    "    \"n\": 14,\n",
    "    \"o\": 15,\n",
    "    \"p\": 16,\n",
    "    \"q\": 17,\n",
    "    \"r\": 18,\n",
    "    \"s\": 19,\n",
    "    \"t\": 20,\n",
    "    \"u\": 21,\n",
    "}"
   ]
  }
 ],
 "metadata": {
  "kernelspec": {
   "display_name": "Python 3 (ipykernel)",
   "language": "python",
   "name": "python3"
  },
  "language_info": {
   "codemirror_mode": {
    "name": "ipython",
    "version": 3
   },
   "file_extension": ".py",
   "mimetype": "text/x-python",
   "name": "python",
   "nbconvert_exporter": "python",
   "pygments_lexer": "ipython3",
   "version": "3.9.15"
  }
 },
 "nbformat": 4,
 "nbformat_minor": 5
}
