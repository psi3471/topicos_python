{
 "cells": [
  {
   "cell_type": "markdown",
   "id": "cc87ad4d-de84-476f-b2e3-5974394f58c2",
   "metadata": {},
   "source": [
    "# 6 - NumPy"
   ]
  },
  {
   "cell_type": "markdown",
   "id": "d9c7423e-f26a-4aa5-9fd1-22396c3590e5",
   "metadata": {},
   "source": [
    "## Guia de comandos"
   ]
  },
  {
   "cell_type": "markdown",
   "id": "7b9c2286-afa0-4898-ae4c-76e1a878b18f",
   "metadata": {},
   "source": [
    "- Importação do NumPy\n",
    "```\n",
    "import numpy as np\n",
    "```\n",
    "\n",
    "- Criação de um array NumPy\n",
    "\n",
    "```\n",
    "A = np.array([[1, 2], [3, 4], [5, 6]])\n",
    "```\n",
    "\n",
    "- Verificação do shape: `A.shape`\n",
    "\n",
    "- Obtenção da matriz transposta: `A.transpose()` ou `A.T`\n",
    "\n",
    "- Operações ponto a ponto entre vetores e matrizes: Usar `+`, `-`, `*`, `/` e `**`\n",
    "\n",
    "- Produto escalar entre vetores ou produto entre matriz e vetor ou matriz e matriz: `np.dot(array1, array2)` ou `array1 @ array2`\n",
    "\n",
    "- Alterando dimensões de um array: `v = v.reshape(1, 3)`"
   ]
  },
  {
   "cell_type": "markdown",
   "id": "17dabebe-f790-4c8a-9c23-eec1d029d55c",
   "metadata": {},
   "source": [
    "- Indexação e fatiamento (indexing, slicing)\n",
    "  - Primeira linha de uma matriz (retorna array de rank 1): `A[0]` ou `A[0, :]`\n",
    "    - Para obter array de rank 2: `A[0].reshape(1, -1)` ou `A[[0]]`\n",
    "  - Primeira e segunda linha de uma matriz, retornando array de rank 2: `A[[0, 1]]`"
   ]
  },
  {
   "cell_type": "markdown",
   "id": "9556d22c-3a20-4ba1-bcf6-74521e87df43",
   "metadata": {},
   "source": [
    "- Funções de conveniência\n",
    "  - Matriz de 0\\'s: `np.zeros((M, N))`\n",
    "  - Matriz de 1\\'s: `np.ones((M, N))`\n",
    "  - Matriz com elementos aleatórios (sorteados de distribuição uniforme de 0 a 1): `np.random.rand(M, N)`\n",
    "  - Matriz com elementos aleatórios (sorteados de distribuição normal de média 0 e variância 1): `np.random.randn(M, N)`"
   ]
  },
  {
   "cell_type": "markdown",
   "id": "ab5e5593-d366-4b11-8a7e-248d4e171b6c",
   "metadata": {},
   "source": [
    "## Testes mostrados no vídeo"
   ]
  },
  {
   "cell_type": "markdown",
   "id": "06ac4e48-fc91-4397-9fd5-9dee307ad00f",
   "metadata": {},
   "source": [
    "### Ganho de desempenho com o Numpy"
   ]
  },
  {
   "cell_type": "code",
   "execution_count": 1,
   "id": "c00cd5df-036d-435e-87e1-95f6b554fb7b",
   "metadata": {},
   "outputs": [],
   "source": [
    "import random"
   ]
  },
  {
   "cell_type": "code",
   "execution_count": 2,
   "id": "b08b91b7-115f-4e25-8d42-5111cc9ffdb6",
   "metadata": {},
   "outputs": [],
   "source": [
    "N = 1000\n",
    "x_list = [random.random() for i in range(N)]"
   ]
  },
  {
   "cell_type": "code",
   "execution_count": 3,
   "id": "ee6e3928-2b2f-403c-ba7c-160c2c752254",
   "metadata": {},
   "outputs": [
    {
     "data": {
      "text/plain": [
       "list"
      ]
     },
     "execution_count": 3,
     "metadata": {},
     "output_type": "execute_result"
    }
   ],
   "source": [
    "type(x_list)"
   ]
  },
  {
   "cell_type": "code",
   "execution_count": 4,
   "id": "e3367836-ffa0-45e9-a738-9dba7791b4a9",
   "metadata": {},
   "outputs": [],
   "source": [
    "y_list = [random.random() for i in range(N)]"
   ]
  },
  {
   "cell_type": "code",
   "execution_count": 5,
   "id": "a5c5b8c0-6694-4b92-bc6f-4cfb57df05f8",
   "metadata": {},
   "outputs": [],
   "source": [
    "def prod(x, y):\n",
    "    N = len(x)\n",
    "    return [x[i]*y[i] for i in range(N)]"
   ]
  },
  {
   "cell_type": "code",
   "execution_count": 6,
   "id": "93b1f546-1cf5-4723-b21b-f7da7eee1bbd",
   "metadata": {},
   "outputs": [],
   "source": [
    "z_list = prod(x_list, y_list)"
   ]
  },
  {
   "cell_type": "code",
   "execution_count": 7,
   "id": "9c0430ec-6f44-46cb-81f5-b32139ece522",
   "metadata": {},
   "outputs": [
    {
     "data": {
      "text/plain": [
       "[0.238299467521131,\n",
       " 0.4535996113523602,\n",
       " 0.6199383570909979,\n",
       " 0.4154201051635536,\n",
       " 0.322343767033582,\n",
       " 0.058764016239509075,\n",
       " 0.06221152019491746,\n",
       " 0.020518904049980042,\n",
       " 0.0020234015184232646,\n",
       " 0.26454526196481093]"
      ]
     },
     "execution_count": 7,
     "metadata": {},
     "output_type": "execute_result"
    }
   ],
   "source": [
    "z_list[:10]"
   ]
  },
  {
   "cell_type": "code",
   "execution_count": 8,
   "id": "2bd89eb4-1e0d-4f94-b6c5-ef559f0f4bc6",
   "metadata": {},
   "outputs": [
    {
     "data": {
      "text/plain": [
       "260.4980991866005"
      ]
     },
     "execution_count": 8,
     "metadata": {},
     "output_type": "execute_result"
    }
   ],
   "source": [
    "sum(z_list)"
   ]
  },
  {
   "cell_type": "code",
   "execution_count": 9,
   "id": "ff40cfa5-7633-412f-9907-d47ad3df9004",
   "metadata": {},
   "outputs": [
    {
     "name": "stdout",
     "output_type": "stream",
     "text": [
      "36.2 µs ± 577 ns per loop (mean ± std. dev. of 7 runs, 10,000 loops each)\n"
     ]
    }
   ],
   "source": [
    "%timeit z_list = prod(x_list, y_list)"
   ]
  },
  {
   "cell_type": "code",
   "execution_count": 10,
   "id": "6b2afe48-0bb3-4182-9fd4-665b9f524074",
   "metadata": {},
   "outputs": [],
   "source": [
    "import numpy as np"
   ]
  },
  {
   "cell_type": "code",
   "execution_count": 11,
   "id": "1bbc4eb0-d908-4201-b6bb-28c1c13fb30f",
   "metadata": {},
   "outputs": [],
   "source": [
    "x_np = np.array(x_list)\n",
    "y_np = np.array(y_list)"
   ]
  },
  {
   "cell_type": "code",
   "execution_count": 12,
   "id": "b4b32aca-5f7a-4dec-ac3a-e9ee8317e537",
   "metadata": {},
   "outputs": [],
   "source": [
    "def prod_np(x, y):\n",
    "    return x * y"
   ]
  },
  {
   "cell_type": "code",
   "execution_count": 13,
   "id": "357db3a3-c61c-4ee2-91d1-0eeecf2652f7",
   "metadata": {},
   "outputs": [],
   "source": [
    "z_np = prod_np(x_np, y_np)"
   ]
  },
  {
   "cell_type": "code",
   "execution_count": 14,
   "id": "fa63fab6-4994-4019-8134-1a39e780e128",
   "metadata": {},
   "outputs": [
    {
     "data": {
      "text/plain": [
       "array([0.23829947, 0.45359961, 0.61993836, 0.41542011, 0.32234377,\n",
       "       0.05876402, 0.06221152, 0.0205189 , 0.0020234 , 0.26454526])"
      ]
     },
     "execution_count": 14,
     "metadata": {},
     "output_type": "execute_result"
    }
   ],
   "source": [
    "z_np[:10]"
   ]
  },
  {
   "cell_type": "code",
   "execution_count": 15,
   "id": "8ca32fd8-65dc-4c69-8e6f-c4c5a6a308a6",
   "metadata": {},
   "outputs": [
    {
     "data": {
      "text/plain": [
       "260.4980991866005"
      ]
     },
     "execution_count": 15,
     "metadata": {},
     "output_type": "execute_result"
    }
   ],
   "source": [
    "sum(z_np)"
   ]
  },
  {
   "cell_type": "code",
   "execution_count": 16,
   "id": "34835d98-651c-4ae5-bea7-5f7e0c0f287d",
   "metadata": {},
   "outputs": [
    {
     "name": "stdout",
     "output_type": "stream",
     "text": [
      "481 ns ± 16.4 ns per loop (mean ± std. dev. of 7 runs, 1,000,000 loops each)\n"
     ]
    }
   ],
   "source": [
    "%timeit z_np = prod_np(x_np, y_np)"
   ]
  },
  {
   "cell_type": "code",
   "execution_count": 17,
   "id": "fa67a52a-cf41-44ea-8594-408a65b884dc",
   "metadata": {},
   "outputs": [
    {
     "data": {
      "text/plain": [
       "79.82456140350877"
      ]
     },
     "execution_count": 17,
     "metadata": {},
     "output_type": "execute_result"
    }
   ],
   "source": [
    "36.4e-6/456e-9"
   ]
  },
  {
   "cell_type": "markdown",
   "id": "f9effaa3-9f38-4d15-b6ce-fb8d20ff95c6",
   "metadata": {},
   "source": [
    "### Arrays"
   ]
  },
  {
   "cell_type": "code",
   "execution_count": 18,
   "id": "21adf26d-f45a-4017-9e97-d8b28ace8fe1",
   "metadata": {},
   "outputs": [
    {
     "data": {
      "text/plain": [
       "array([[1, 2],\n",
       "       [3, 4],\n",
       "       [5, 6]])"
      ]
     },
     "execution_count": 18,
     "metadata": {},
     "output_type": "execute_result"
    }
   ],
   "source": [
    "import numpy as np\n",
    "A = np.array([[1, 2], [3, 4], [5, 6]])\n",
    "A"
   ]
  },
  {
   "cell_type": "code",
   "execution_count": 19,
   "id": "fab195d1-bf4b-4058-b56f-aebfc432e0ec",
   "metadata": {},
   "outputs": [
    {
     "data": {
      "text/plain": [
       "numpy.ndarray"
      ]
     },
     "execution_count": 19,
     "metadata": {},
     "output_type": "execute_result"
    }
   ],
   "source": [
    "type(A)"
   ]
  },
  {
   "cell_type": "code",
   "execution_count": 20,
   "id": "c9169dde-0c53-4c89-ac36-f288b36773eb",
   "metadata": {},
   "outputs": [],
   "source": [
    "lista = [1, 2.5, \"texto\"]"
   ]
  },
  {
   "cell_type": "code",
   "execution_count": 21,
   "id": "6f910b5e-138e-4cb7-bc95-3f2a1232d76c",
   "metadata": {},
   "outputs": [
    {
     "data": {
      "text/plain": [
       "[1, 2.5, 'texto']"
      ]
     },
     "execution_count": 21,
     "metadata": {},
     "output_type": "execute_result"
    }
   ],
   "source": [
    "lista"
   ]
  },
  {
   "cell_type": "code",
   "execution_count": 22,
   "id": "cd5383a7-9a2b-4c4d-a262-8f0116b68827",
   "metadata": {},
   "outputs": [
    {
     "data": {
      "text/plain": [
       "dtype('int64')"
      ]
     },
     "execution_count": 22,
     "metadata": {},
     "output_type": "execute_result"
    }
   ],
   "source": [
    "A.dtype"
   ]
  },
  {
   "cell_type": "code",
   "execution_count": 23,
   "id": "e6fed3f7-b6e8-4ce3-9e13-841202b51e73",
   "metadata": {},
   "outputs": [
    {
     "data": {
      "text/plain": [
       "array([[1., 2.],\n",
       "       [3., 4.],\n",
       "       [5., 6.]])"
      ]
     },
     "execution_count": 23,
     "metadata": {},
     "output_type": "execute_result"
    }
   ],
   "source": [
    "A = np.array([[1.0, 2], [3, 4], [5, 6]])\n",
    "A"
   ]
  },
  {
   "cell_type": "code",
   "execution_count": 24,
   "id": "c657d8d7-4ec6-48c4-a7f7-5efb8858742b",
   "metadata": {},
   "outputs": [
    {
     "data": {
      "text/plain": [
       "dtype('float64')"
      ]
     },
     "execution_count": 24,
     "metadata": {},
     "output_type": "execute_result"
    }
   ],
   "source": [
    "A.dtype"
   ]
  },
  {
   "cell_type": "code",
   "execution_count": 25,
   "id": "adf70c74-3f44-43e7-94e9-2185c8634c97",
   "metadata": {},
   "outputs": [
    {
     "data": {
      "text/plain": [
       "(3, 2)"
      ]
     },
     "execution_count": 25,
     "metadata": {},
     "output_type": "execute_result"
    }
   ],
   "source": [
    "A.shape"
   ]
  },
  {
   "cell_type": "code",
   "execution_count": 26,
   "id": "c849eadf-39f4-4d0a-8d8d-f074e74eacde",
   "metadata": {},
   "outputs": [
    {
     "data": {
      "text/plain": [
       "array([[1., 3., 5.],\n",
       "       [2., 4., 6.]])"
      ]
     },
     "execution_count": 26,
     "metadata": {},
     "output_type": "execute_result"
    }
   ],
   "source": [
    "A.transpose()"
   ]
  },
  {
   "cell_type": "code",
   "execution_count": 27,
   "id": "08c5c4b9-2605-4288-bd0b-173885b7dfa9",
   "metadata": {},
   "outputs": [
    {
     "data": {
      "text/plain": [
       "array([[1., 3., 5.],\n",
       "       [2., 4., 6.]])"
      ]
     },
     "execution_count": 27,
     "metadata": {},
     "output_type": "execute_result"
    }
   ],
   "source": [
    "A.T"
   ]
  },
  {
   "cell_type": "code",
   "execution_count": 28,
   "id": "5952090b-e274-4dc0-b99f-2c3bfe75f67c",
   "metadata": {},
   "outputs": [],
   "source": [
    "v = np.array([1, 2, 3])"
   ]
  },
  {
   "cell_type": "code",
   "execution_count": 29,
   "id": "ca4f9c37-8c21-4960-82b6-987f65eb3ea2",
   "metadata": {},
   "outputs": [
    {
     "data": {
      "text/plain": [
       "array([1, 2, 3])"
      ]
     },
     "execution_count": 29,
     "metadata": {},
     "output_type": "execute_result"
    }
   ],
   "source": [
    "v"
   ]
  },
  {
   "cell_type": "code",
   "execution_count": 30,
   "id": "6f3a6804-9394-47eb-bd34-107591b0b966",
   "metadata": {},
   "outputs": [
    {
     "data": {
      "text/plain": [
       "(3,)"
      ]
     },
     "execution_count": 30,
     "metadata": {},
     "output_type": "execute_result"
    }
   ],
   "source": [
    "v.shape"
   ]
  },
  {
   "cell_type": "code",
   "execution_count": 31,
   "id": "1efe7013-be0c-4d87-8fee-796ac98f7450",
   "metadata": {},
   "outputs": [
    {
     "data": {
      "text/plain": [
       "array([1, 2, 3])"
      ]
     },
     "execution_count": 31,
     "metadata": {},
     "output_type": "execute_result"
    }
   ],
   "source": [
    "v.T"
   ]
  },
  {
   "cell_type": "code",
   "execution_count": 32,
   "id": "8151691a-b49d-4b36-8783-5c125f6f99a6",
   "metadata": {},
   "outputs": [
    {
     "data": {
      "text/plain": [
       "14"
      ]
     },
     "execution_count": 32,
     "metadata": {},
     "output_type": "execute_result"
    }
   ],
   "source": [
    "np.dot(v, v.T)"
   ]
  },
  {
   "cell_type": "code",
   "execution_count": 33,
   "id": "3fcd7855-2622-4cd4-945e-f57cf69c468e",
   "metadata": {},
   "outputs": [],
   "source": [
    "v = np.array([[1, 2, 3]])"
   ]
  },
  {
   "cell_type": "code",
   "execution_count": 34,
   "id": "ad35ee63-62ed-4101-95b2-0c935d69133e",
   "metadata": {},
   "outputs": [
    {
     "data": {
      "text/plain": [
       "(1, 3)"
      ]
     },
     "execution_count": 34,
     "metadata": {},
     "output_type": "execute_result"
    }
   ],
   "source": [
    "v.shape"
   ]
  },
  {
   "cell_type": "code",
   "execution_count": 35,
   "id": "83fd27da-ee95-4699-b5df-72896250a9a4",
   "metadata": {},
   "outputs": [],
   "source": [
    "v = np.array([[1], [2], [3]])"
   ]
  },
  {
   "cell_type": "code",
   "execution_count": 36,
   "id": "35d622d7-4796-4e60-a079-934eccb125c6",
   "metadata": {},
   "outputs": [
    {
     "data": {
      "text/plain": [
       "(3, 1)"
      ]
     },
     "execution_count": 36,
     "metadata": {},
     "output_type": "execute_result"
    }
   ],
   "source": [
    "v.shape"
   ]
  },
  {
   "cell_type": "code",
   "execution_count": 37,
   "id": "663c8e17-7c8c-43d2-8cea-0c38e67abbc0",
   "metadata": {},
   "outputs": [
    {
     "data": {
      "text/plain": [
       "array([[1, 2, 3],\n",
       "       [2, 4, 6],\n",
       "       [3, 6, 9]])"
      ]
     },
     "execution_count": 37,
     "metadata": {},
     "output_type": "execute_result"
    }
   ],
   "source": [
    "np.dot(v, v.T)"
   ]
  },
  {
   "cell_type": "code",
   "execution_count": 38,
   "id": "4cdb39e7-74a0-451b-b6a9-6c56859abc46",
   "metadata": {},
   "outputs": [],
   "source": [
    "v = v.reshape(1, 3)"
   ]
  },
  {
   "cell_type": "code",
   "execution_count": 39,
   "id": "e6a03ea5-0604-4206-bb84-f8ac71355876",
   "metadata": {},
   "outputs": [
    {
     "data": {
      "text/plain": [
       "array([[1, 2, 3]])"
      ]
     },
     "execution_count": 39,
     "metadata": {},
     "output_type": "execute_result"
    }
   ],
   "source": [
    "v"
   ]
  },
  {
   "cell_type": "code",
   "execution_count": 40,
   "id": "f5ce5c28-542b-4fab-8760-a430c28131fc",
   "metadata": {},
   "outputs": [],
   "source": [
    "# Para garantir que um vetor tenha um determinado shape\n",
    "assert(v.shape == (1, 3))"
   ]
  },
  {
   "cell_type": "code",
   "execution_count": 41,
   "id": "21c91900-f501-4eee-b209-b128407e5e93",
   "metadata": {},
   "outputs": [
    {
     "data": {
      "text/plain": [
       "(1, 3)"
      ]
     },
     "execution_count": 41,
     "metadata": {},
     "output_type": "execute_result"
    }
   ],
   "source": [
    "v.shape"
   ]
  },
  {
   "cell_type": "code",
   "execution_count": 42,
   "id": "e0bf766a-70e3-416d-bf97-cbd72fd7b069",
   "metadata": {},
   "outputs": [
    {
     "ename": "ValueError",
     "evalue": "cannot reshape array of size 3 into shape (4,1)",
     "output_type": "error",
     "traceback": [
      "\u001b[0;31m---------------------------------------------------------------------------\u001b[0m",
      "\u001b[0;31mValueError\u001b[0m                                Traceback (most recent call last)",
      "Cell \u001b[0;32mIn[42], line 1\u001b[0m\n\u001b[0;32m----> 1\u001b[0m a \u001b[38;5;241m=\u001b[39m \u001b[43mnp\u001b[49m\u001b[38;5;241;43m.\u001b[39;49m\u001b[43marray\u001b[49m\u001b[43m(\u001b[49m\u001b[43m[\u001b[49m\u001b[38;5;241;43m4\u001b[39;49m\u001b[43m,\u001b[49m\u001b[43m \u001b[49m\u001b[38;5;241;43m5\u001b[39;49m\u001b[43m,\u001b[49m\u001b[43m \u001b[49m\u001b[38;5;241;43m6\u001b[39;49m\u001b[43m]\u001b[49m\u001b[43m)\u001b[49m\u001b[38;5;241;43m.\u001b[39;49m\u001b[43mreshape\u001b[49m\u001b[43m(\u001b[49m\u001b[38;5;241;43m4\u001b[39;49m\u001b[43m,\u001b[49m\u001b[43m \u001b[49m\u001b[38;5;241;43m1\u001b[39;49m\u001b[43m)\u001b[49m\n\u001b[1;32m      2\u001b[0m a\n",
      "\u001b[0;31mValueError\u001b[0m: cannot reshape array of size 3 into shape (4,1)"
     ]
    }
   ],
   "source": [
    "a = np.array([4, 5, 6]).reshape(4, 1)\n",
    "a"
   ]
  },
  {
   "cell_type": "code",
   "execution_count": 43,
   "id": "545edad7-dd89-4f5b-bebf-71837e2eb4ad",
   "metadata": {},
   "outputs": [
    {
     "data": {
      "text/plain": [
       "array([[4],\n",
       "       [5],\n",
       "       [6]])"
      ]
     },
     "execution_count": 43,
     "metadata": {},
     "output_type": "execute_result"
    }
   ],
   "source": [
    "a = np.array([4, 5, 6]).reshape(-1, 1)\n",
    "a"
   ]
  },
  {
   "cell_type": "code",
   "execution_count": 44,
   "id": "5f3b59a1-bf64-4a49-bb26-fbdeb86f56c0",
   "metadata": {
    "tags": []
   },
   "outputs": [
    {
     "data": {
      "text/plain": [
       "(3, 1)"
      ]
     },
     "execution_count": 44,
     "metadata": {},
     "output_type": "execute_result"
    }
   ],
   "source": [
    "a.shape"
   ]
  },
  {
   "cell_type": "code",
   "execution_count": 45,
   "id": "5bd6c8e0-4043-4a61-9e62-e621386ab1bc",
   "metadata": {},
   "outputs": [
    {
     "data": {
      "text/plain": [
       "array([[1., 2.],\n",
       "       [3., 4.],\n",
       "       [5., 6.]])"
      ]
     },
     "execution_count": 45,
     "metadata": {},
     "output_type": "execute_result"
    }
   ],
   "source": [
    "A"
   ]
  },
  {
   "cell_type": "code",
   "execution_count": 46,
   "id": "10631623-3d51-41c2-966f-58c2b1dbb907",
   "metadata": {},
   "outputs": [
    {
     "data": {
      "text/plain": [
       "array([[1., 2., 3.],\n",
       "       [4., 5., 6.]])"
      ]
     },
     "execution_count": 46,
     "metadata": {},
     "output_type": "execute_result"
    }
   ],
   "source": [
    "A.reshape(-1, 3)"
   ]
  },
  {
   "cell_type": "markdown",
   "id": "3df78b08-8820-4cdf-953c-b4990aa22227",
   "metadata": {
    "tags": []
   },
   "source": [
    "### Slicing"
   ]
  },
  {
   "cell_type": "code",
   "execution_count": 47,
   "id": "34b0c51e-1f20-4a3d-bc1f-20fe352fbeae",
   "metadata": {},
   "outputs": [],
   "source": [
    "A = np.array([[1, 2, 3], [4, 5, 6], [7, 8, 9]])"
   ]
  },
  {
   "cell_type": "code",
   "execution_count": 48,
   "id": "1cb18ca5-74e6-419d-adf1-6e037be77804",
   "metadata": {},
   "outputs": [
    {
     "data": {
      "text/plain": [
       "array([[1, 2, 3],\n",
       "       [4, 5, 6],\n",
       "       [7, 8, 9]])"
      ]
     },
     "execution_count": 48,
     "metadata": {},
     "output_type": "execute_result"
    }
   ],
   "source": [
    "A"
   ]
  },
  {
   "cell_type": "code",
   "execution_count": 49,
   "id": "c93d59d9-5f20-4295-b4b1-d05bf96af42d",
   "metadata": {},
   "outputs": [
    {
     "data": {
      "text/plain": [
       "array([1, 2, 3])"
      ]
     },
     "execution_count": 49,
     "metadata": {},
     "output_type": "execute_result"
    }
   ],
   "source": [
    "A[0] # primeira linha"
   ]
  },
  {
   "cell_type": "code",
   "execution_count": 50,
   "id": "a1f3ed21-3feb-4fe7-8eed-c2fdd7b6c32f",
   "metadata": {},
   "outputs": [
    {
     "data": {
      "text/plain": [
       "(3,)"
      ]
     },
     "execution_count": 50,
     "metadata": {},
     "output_type": "execute_result"
    }
   ],
   "source": [
    "A[0].shape # resultado é um array de rank 1"
   ]
  },
  {
   "cell_type": "code",
   "execution_count": 51,
   "id": "1201558c-ae42-4aa4-b57b-fbfc53a111f0",
   "metadata": {},
   "outputs": [
    {
     "data": {
      "text/plain": [
       "array([1, 2, 3])"
      ]
     },
     "execution_count": 51,
     "metadata": {},
     "output_type": "execute_result"
    }
   ],
   "source": [
    "A[0, :]"
   ]
  },
  {
   "cell_type": "code",
   "execution_count": 52,
   "id": "33d7114c-41c6-45e9-b91e-04afa3973bc0",
   "metadata": {},
   "outputs": [
    {
     "data": {
      "text/plain": [
       "(3,)"
      ]
     },
     "execution_count": 52,
     "metadata": {},
     "output_type": "execute_result"
    }
   ],
   "source": [
    "A[0, :].shape"
   ]
  },
  {
   "cell_type": "markdown",
   "id": "43a09692-3588-4bde-889c-08c3c7473c8b",
   "metadata": {},
   "source": [
    "Para obter array de rank 2:\n",
    "\n",
    "- Usar reshape"
   ]
  },
  {
   "cell_type": "code",
   "execution_count": 53,
   "id": "752c5553-28e2-402e-b480-d5396e9623e9",
   "metadata": {},
   "outputs": [
    {
     "data": {
      "text/plain": [
       "array([[1, 2, 3]])"
      ]
     },
     "execution_count": 53,
     "metadata": {},
     "output_type": "execute_result"
    }
   ],
   "source": [
    "A[0, :].reshape(1, -1)"
   ]
  },
  {
   "cell_type": "code",
   "execution_count": 54,
   "id": "8007bf52-ced6-4d1a-b992-018a5bbe3b76",
   "metadata": {},
   "outputs": [
    {
     "data": {
      "text/plain": [
       "(1, 3)"
      ]
     },
     "execution_count": 54,
     "metadata": {},
     "output_type": "execute_result"
    }
   ],
   "source": [
    "A[0, :].reshape(1, -1).shape"
   ]
  },
  {
   "cell_type": "markdown",
   "id": "803f3d6d-2e1f-4c42-aab4-b5a8332c3830",
   "metadata": {},
   "source": [
    "- Usar um iterável (ou range) para especificar linhas e colunas"
   ]
  },
  {
   "cell_type": "code",
   "execution_count": 55,
   "id": "8722c711-20df-486e-96d3-e127d6872ad3",
   "metadata": {},
   "outputs": [
    {
     "data": {
      "text/plain": [
       "array([[1, 2, 3]])"
      ]
     },
     "execution_count": 55,
     "metadata": {},
     "output_type": "execute_result"
    }
   ],
   "source": [
    "A[[0]]"
   ]
  },
  {
   "cell_type": "code",
   "execution_count": 56,
   "id": "f7e206a3-eb29-4a2a-b012-4201aba9e5ed",
   "metadata": {},
   "outputs": [
    {
     "data": {
      "text/plain": [
       "(1, 3)"
      ]
     },
     "execution_count": 56,
     "metadata": {},
     "output_type": "execute_result"
    }
   ],
   "source": [
    "A[[0]].shape"
   ]
  },
  {
   "cell_type": "code",
   "execution_count": 57,
   "id": "5d1eb30a-e889-4c4b-acbc-2301919bfd62",
   "metadata": {},
   "outputs": [
    {
     "data": {
      "text/plain": [
       "array([[1, 2, 3],\n",
       "       [4, 5, 6]])"
      ]
     },
     "execution_count": 57,
     "metadata": {},
     "output_type": "execute_result"
    }
   ],
   "source": [
    "A[[0, 1]]"
   ]
  },
  {
   "cell_type": "code",
   "execution_count": 58,
   "id": "485a206f-8b7e-4b24-b7c3-18afea7b5a64",
   "metadata": {},
   "outputs": [
    {
     "data": {
      "text/plain": [
       "array([[1],\n",
       "       [4],\n",
       "       [7]])"
      ]
     },
     "execution_count": 58,
     "metadata": {},
     "output_type": "execute_result"
    }
   ],
   "source": [
    "A[:, [0]]"
   ]
  },
  {
   "cell_type": "code",
   "execution_count": 59,
   "id": "4fd4481d-fcb1-4455-aa7a-b286bea60eaf",
   "metadata": {},
   "outputs": [
    {
     "data": {
      "text/plain": [
       "array([[1, 2, 3]])"
      ]
     },
     "execution_count": 59,
     "metadata": {},
     "output_type": "execute_result"
    }
   ],
   "source": [
    "A[[0], :]"
   ]
  },
  {
   "cell_type": "code",
   "execution_count": 60,
   "id": "b0400034-d5bf-4be2-a846-2870bc1efbe2",
   "metadata": {},
   "outputs": [
    {
     "data": {
      "text/plain": [
       "array([[1, 2, 3]])"
      ]
     },
     "execution_count": 60,
     "metadata": {},
     "output_type": "execute_result"
    }
   ],
   "source": [
    "A[0:1, :]"
   ]
  },
  {
   "cell_type": "code",
   "execution_count": 61,
   "id": "604e918c-3728-45d1-a98d-ee06c0592560",
   "metadata": {},
   "outputs": [
    {
     "data": {
      "text/plain": [
       "array([[1, 2, 3],\n",
       "       [4, 5, 6]])"
      ]
     },
     "execution_count": 61,
     "metadata": {},
     "output_type": "execute_result"
    }
   ],
   "source": [
    "A[0:2, :]"
   ]
  },
  {
   "cell_type": "markdown",
   "id": "b2ac108b-8b09-439a-91af-e4539c14a68e",
   "metadata": {},
   "source": [
    "### Funções de conveniência"
   ]
  },
  {
   "cell_type": "code",
   "execution_count": 62,
   "id": "3d6de704-ce45-413c-8a97-a8a20881468d",
   "metadata": {},
   "outputs": [
    {
     "data": {
      "text/plain": [
       "array([[0., 0.],\n",
       "       [0., 0.],\n",
       "       [0., 0.]])"
      ]
     },
     "execution_count": 62,
     "metadata": {},
     "output_type": "execute_result"
    }
   ],
   "source": [
    "np.zeros((3, 2))"
   ]
  },
  {
   "cell_type": "code",
   "execution_count": 63,
   "id": "932842d9-40f3-4455-89ca-fda067121a55",
   "metadata": {},
   "outputs": [
    {
     "data": {
      "text/plain": [
       "array([[1., 1., 1.],\n",
       "       [1., 1., 1.]])"
      ]
     },
     "execution_count": 63,
     "metadata": {},
     "output_type": "execute_result"
    }
   ],
   "source": [
    "np.ones((2, 3))"
   ]
  },
  {
   "cell_type": "code",
   "execution_count": 64,
   "id": "503fa1c1-a68d-4620-a6d5-b82958af4051",
   "metadata": {},
   "outputs": [
    {
     "data": {
      "text/plain": [
       "array([[0.46635824, 0.34286397],\n",
       "       [0.64836301, 0.00745396],\n",
       "       [0.69759353, 0.89151124]])"
      ]
     },
     "execution_count": 64,
     "metadata": {},
     "output_type": "execute_result"
    }
   ],
   "source": [
    "np.random.rand(3, 2) # elementos entre 0 e 1, uniformemente distribuídos"
   ]
  },
  {
   "cell_type": "code",
   "execution_count": 65,
   "id": "990b3c8c-10ad-4395-9888-bdf9c9600c30",
   "metadata": {},
   "outputs": [
    {
     "data": {
      "text/plain": [
       "array([[ 1.18431295,  0.87547317],\n",
       "       [-1.50005818, -2.01904215],\n",
       "       [-0.22474556, -0.0353872 ]])"
      ]
     },
     "execution_count": 65,
     "metadata": {},
     "output_type": "execute_result"
    }
   ],
   "source": [
    "np.random.randn(3, 2) # elementos de uma distribuição normal com média zero e variância 1"
   ]
  },
  {
   "cell_type": "markdown",
   "id": "d1e7f15c-9c3d-43e1-9380-ccbe5d295c24",
   "metadata": {},
   "source": [
    "### Operações"
   ]
  },
  {
   "cell_type": "markdown",
   "id": "aba21976-e2f2-4557-9743-35b8a9f41a14",
   "metadata": {},
   "source": [
    "Operações básicas do Python (`+`, `-`, `*`, `/`, `**`) sempre são executadas elemento a elemento"
   ]
  },
  {
   "cell_type": "code",
   "execution_count": 66,
   "id": "4dbe80f6-f29e-40af-a56e-7987ad9cbf59",
   "metadata": {},
   "outputs": [
    {
     "data": {
      "text/plain": [
       "array([[10., 10.],\n",
       "       [10., 10.]])"
      ]
     },
     "execution_count": 66,
     "metadata": {},
     "output_type": "execute_result"
    }
   ],
   "source": [
    "10*np.ones((2,2))"
   ]
  },
  {
   "cell_type": "code",
   "execution_count": 67,
   "id": "f551d1a3-38db-4984-b188-82e67f9b47dc",
   "metadata": {},
   "outputs": [
    {
     "data": {
      "text/plain": [
       "array([[10., 10.],\n",
       "       [10., 10.]])"
      ]
     },
     "execution_count": 67,
     "metadata": {},
     "output_type": "execute_result"
    }
   ],
   "source": [
    "A = 10 * np.ones((2, 2))\n",
    "A"
   ]
  },
  {
   "cell_type": "code",
   "execution_count": 68,
   "id": "f3965e16-8702-4e8d-bbf9-a1430d8222d6",
   "metadata": {},
   "outputs": [
    {
     "data": {
      "text/plain": [
       "array([[2, 2],\n",
       "       [5, 5]])"
      ]
     },
     "execution_count": 68,
     "metadata": {},
     "output_type": "execute_result"
    }
   ],
   "source": [
    "B = np.array([[2, 2], [5, 5]])\n",
    "B"
   ]
  },
  {
   "cell_type": "code",
   "execution_count": 69,
   "id": "b4ac1815-74e3-435c-aa13-66f02786a6a5",
   "metadata": {},
   "outputs": [
    {
     "data": {
      "text/plain": [
       "array([[20., 20.],\n",
       "       [50., 50.]])"
      ]
     },
     "execution_count": 69,
     "metadata": {},
     "output_type": "execute_result"
    }
   ],
   "source": [
    "A*B"
   ]
  },
  {
   "cell_type": "code",
   "execution_count": 70,
   "id": "26033276-0b28-4625-942d-e3176fdf477d",
   "metadata": {},
   "outputs": [
    {
     "data": {
      "text/plain": [
       "array([[   100.,    100.],\n",
       "       [100000., 100000.]])"
      ]
     },
     "execution_count": 70,
     "metadata": {},
     "output_type": "execute_result"
    }
   ],
   "source": [
    "A**B"
   ]
  },
  {
   "cell_type": "code",
   "execution_count": 71,
   "id": "fcb535bb-1145-47f6-8382-7d1e8a7f84e2",
   "metadata": {},
   "outputs": [
    {
     "data": {
      "text/plain": [
       "array([[70., 70.],\n",
       "       [70., 70.]])"
      ]
     },
     "execution_count": 71,
     "metadata": {},
     "output_type": "execute_result"
    }
   ],
   "source": [
    "np.dot(A,B) # multiplicação matricial"
   ]
  },
  {
   "cell_type": "code",
   "execution_count": 72,
   "id": "8e95e31e-d781-4c4e-b5f5-fc6ecebbcffb",
   "metadata": {},
   "outputs": [
    {
     "data": {
      "text/plain": [
       "array([[70., 70.],\n",
       "       [70., 70.]])"
      ]
     },
     "execution_count": 72,
     "metadata": {},
     "output_type": "execute_result"
    }
   ],
   "source": [
    "A @ B"
   ]
  },
  {
   "cell_type": "code",
   "execution_count": 73,
   "id": "6acf39ac-0084-498e-af69-74aea51cda98",
   "metadata": {},
   "outputs": [
    {
     "data": {
      "text/plain": [
       "array([[1, 2],\n",
       "       [3, 4]])"
      ]
     },
     "execution_count": 73,
     "metadata": {},
     "output_type": "execute_result"
    }
   ],
   "source": [
    "A = np.array([[1, 2], [3, 4]])\n",
    "A"
   ]
  },
  {
   "cell_type": "code",
   "execution_count": 74,
   "id": "eb4ecf71-365f-4853-8511-784481bc2d7b",
   "metadata": {},
   "outputs": [
    {
     "data": {
      "text/plain": [
       "array([[5],\n",
       "       [6]])"
      ]
     },
     "execution_count": 74,
     "metadata": {},
     "output_type": "execute_result"
    }
   ],
   "source": [
    "v = np.array([[5], [6]])\n",
    "v"
   ]
  },
  {
   "cell_type": "code",
   "execution_count": 75,
   "id": "2e4d1ecd-1723-4a90-9f28-5a606e30c8cf",
   "metadata": {},
   "outputs": [
    {
     "data": {
      "text/plain": [
       "array([[17],\n",
       "       [39]])"
      ]
     },
     "execution_count": 75,
     "metadata": {},
     "output_type": "execute_result"
    }
   ],
   "source": [
    "A@v"
   ]
  },
  {
   "cell_type": "code",
   "execution_count": 76,
   "id": "cefe0d1e-cdc9-4e53-b49f-47134848a14b",
   "metadata": {},
   "outputs": [
    {
     "ename": "ValueError",
     "evalue": "matmul: Input operand 1 has a mismatch in its core dimension 0, with gufunc signature (n?,k),(k,m?)->(n?,m?) (size 2 is different from 1)",
     "output_type": "error",
     "traceback": [
      "\u001b[0;31m---------------------------------------------------------------------------\u001b[0m",
      "\u001b[0;31mValueError\u001b[0m                                Traceback (most recent call last)",
      "Cell \u001b[0;32mIn[76], line 1\u001b[0m\n\u001b[0;32m----> 1\u001b[0m \u001b[43mv\u001b[49m\u001b[38;5;129;43m@A\u001b[39;49m\n",
      "\u001b[0;31mValueError\u001b[0m: matmul: Input operand 1 has a mismatch in its core dimension 0, with gufunc signature (n?,k),(k,m?)->(n?,m?) (size 2 is different from 1)"
     ]
    }
   ],
   "source": [
    "v@A"
   ]
  },
  {
   "cell_type": "code",
   "execution_count": 77,
   "id": "f55f8f3f-f24e-4f6b-a46d-6806a191fa92",
   "metadata": {},
   "outputs": [
    {
     "data": {
      "text/plain": [
       "array([[17],\n",
       "       [39]])"
      ]
     },
     "execution_count": 77,
     "metadata": {},
     "output_type": "execute_result"
    }
   ],
   "source": [
    "np.dot(A,v)"
   ]
  },
  {
   "cell_type": "markdown",
   "id": "3340adbd-a8fe-4f73-bfde-98d15ce62808",
   "metadata": {},
   "source": [
    "### Broadcasting"
   ]
  },
  {
   "cell_type": "code",
   "execution_count": 78,
   "id": "999589ea-3520-4eaf-9887-539162fed471",
   "metadata": {},
   "outputs": [
    {
     "data": {
      "text/plain": [
       "array([[1, 2, 3]])"
      ]
     },
     "execution_count": 78,
     "metadata": {},
     "output_type": "execute_result"
    }
   ],
   "source": [
    "a = np.array([[1,2,3]]) # vetor linha\n",
    "a"
   ]
  },
  {
   "cell_type": "code",
   "execution_count": 79,
   "id": "f204092e-5f67-4735-96dd-6d8807417c1d",
   "metadata": {},
   "outputs": [
    {
     "data": {
      "text/plain": [
       "array([[4],\n",
       "       [5],\n",
       "       [6]])"
      ]
     },
     "execution_count": 79,
     "metadata": {},
     "output_type": "execute_result"
    }
   ],
   "source": [
    "b = np.array([[4,5,6]]).reshape(-1, 1) # vetor coluna\n",
    "b"
   ]
  },
  {
   "cell_type": "code",
   "execution_count": 80,
   "id": "6dff3010-84df-4a07-a9ae-ff32b6132d4c",
   "metadata": {},
   "outputs": [
    {
     "data": {
      "text/plain": [
       "array([[5, 6, 7],\n",
       "       [6, 7, 8],\n",
       "       [7, 8, 9]])"
      ]
     },
     "execution_count": 80,
     "metadata": {},
     "output_type": "execute_result"
    }
   ],
   "source": [
    "a+b"
   ]
  },
  {
   "cell_type": "code",
   "execution_count": 81,
   "id": "01b00a95-6f01-49c0-afd6-4bbd8e118639",
   "metadata": {},
   "outputs": [
    {
     "data": {
      "text/plain": [
       "array([[5, 6, 7],\n",
       "       [6, 7, 8],\n",
       "       [7, 8, 9]])"
      ]
     },
     "execution_count": 81,
     "metadata": {},
     "output_type": "execute_result"
    }
   ],
   "source": [
    "b+a"
   ]
  },
  {
   "cell_type": "code",
   "execution_count": 82,
   "id": "db8b9143-204f-47a1-a1ca-954ecc6bd5ce",
   "metadata": {},
   "outputs": [
    {
     "data": {
      "text/plain": [
       "array([[1, 2, 3]])"
      ]
     },
     "execution_count": 82,
     "metadata": {},
     "output_type": "execute_result"
    }
   ],
   "source": [
    "a"
   ]
  },
  {
   "cell_type": "code",
   "execution_count": 83,
   "id": "8ab07e32-4341-4b46-a41d-37619b866b81",
   "metadata": {},
   "outputs": [
    {
     "data": {
      "text/plain": [
       "array([[4],\n",
       "       [5],\n",
       "       [6]])"
      ]
     },
     "execution_count": 83,
     "metadata": {},
     "output_type": "execute_result"
    }
   ],
   "source": [
    "b"
   ]
  },
  {
   "cell_type": "code",
   "execution_count": 84,
   "id": "bdd06cca-1389-4eda-a5c9-fb95e98df14b",
   "metadata": {
    "tags": []
   },
   "outputs": [
    {
     "data": {
      "text/plain": [
       "array([[ 4,  8, 12],\n",
       "       [ 5, 10, 15],\n",
       "       [ 6, 12, 18]])"
      ]
     },
     "execution_count": 84,
     "metadata": {},
     "output_type": "execute_result"
    }
   ],
   "source": [
    "b*a"
   ]
  },
  {
   "cell_type": "code",
   "execution_count": 85,
   "id": "eb5ff1c0-4c0c-468e-bf22-95954b5fde24",
   "metadata": {},
   "outputs": [
    {
     "data": {
      "text/plain": [
       "array([[1, 2, 3]])"
      ]
     },
     "execution_count": 85,
     "metadata": {},
     "output_type": "execute_result"
    }
   ],
   "source": [
    "c = np.array([[1,2,3]]) # vetor linha\n",
    "c"
   ]
  },
  {
   "cell_type": "code",
   "execution_count": 86,
   "id": "6b642295-fc21-40f5-8b11-0047a953f736",
   "metadata": {},
   "outputs": [
    {
     "data": {
      "text/plain": [
       "array([[4],\n",
       "       [5]])"
      ]
     },
     "execution_count": 86,
     "metadata": {},
     "output_type": "execute_result"
    }
   ],
   "source": [
    "d = np.array([[4,5]]).reshape(-1, 1) # vetor coluna\n",
    "d"
   ]
  },
  {
   "cell_type": "code",
   "execution_count": 87,
   "id": "cb230baf-8824-4810-9b91-c13bb48de425",
   "metadata": {},
   "outputs": [
    {
     "data": {
      "text/plain": [
       "array([[ 4,  8, 12],\n",
       "       [ 5, 10, 15]])"
      ]
     },
     "execution_count": 87,
     "metadata": {},
     "output_type": "execute_result"
    }
   ],
   "source": [
    "c*d"
   ]
  },
  {
   "cell_type": "code",
   "execution_count": 88,
   "id": "8040a25f-20ad-4d26-b6f8-e7e7935b42ac",
   "metadata": {},
   "outputs": [
    {
     "ename": "ValueError",
     "evalue": "matmul: Input operand 1 has a mismatch in its core dimension 0, with gufunc signature (n?,k),(k,m?)->(n?,m?) (size 2 is different from 3)",
     "output_type": "error",
     "traceback": [
      "\u001b[0;31m---------------------------------------------------------------------------\u001b[0m",
      "\u001b[0;31mValueError\u001b[0m                                Traceback (most recent call last)",
      "Cell \u001b[0;32mIn[88], line 1\u001b[0m\n\u001b[0;32m----> 1\u001b[0m \u001b[43mc\u001b[49m\u001b[38;5;129;43m@d\u001b[39;49m\n",
      "\u001b[0;31mValueError\u001b[0m: matmul: Input operand 1 has a mismatch in its core dimension 0, with gufunc signature (n?,k),(k,m?)->(n?,m?) (size 2 is different from 3)"
     ]
    }
   ],
   "source": [
    "c@d"
   ]
  }
 ],
 "metadata": {
  "kernelspec": {
   "display_name": "mambaforge-main",
   "language": "python",
   "name": "mambaforge-main"
  },
  "language_info": {
   "codemirror_mode": {
    "name": "ipython",
    "version": 3
   },
   "file_extension": ".py",
   "mimetype": "text/x-python",
   "name": "python",
   "nbconvert_exporter": "python",
   "pygments_lexer": "ipython3",
   "version": "3.9.15"
  }
 },
 "nbformat": 4,
 "nbformat_minor": 5
}
