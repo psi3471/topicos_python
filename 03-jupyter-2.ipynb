{
 "cells": [
  {
   "cell_type": "markdown",
   "id": "ee609aae-4f35-4681-90d9-7832368e4a0c",
   "metadata": {},
   "source": [
    "# 3 - Mais detalhes sobre o Jupyter e o conda"
   ]
  },
  {
   "cell_type": "markdown",
   "id": "099e509e-461e-4c1e-a719-7aa1fabf3b0a",
   "metadata": {},
   "source": [
    "## Guia de comandos"
   ]
  },
  {
   "cell_type": "markdown",
   "id": "b14b39c3-1f20-471b-acfd-3ff86123d886",
   "metadata": {},
   "source": [
    "- Exemplo básico de arquivo yml especificando ambiente conda: `env1.yml`"
   ]
  },
  {
   "cell_type": "raw",
   "id": "6a18bb46-c7e0-4958-8525-aead8177d98b",
   "metadata": {},
   "source": [
    "name: env1\n",
    "dependencies:\n",
    "  - jupyter\n",
    "  - pillow\n",
    "  - scikit-learn"
   ]
  },
  {
   "cell_type": "markdown",
   "id": "1c373f2b-f16e-41dc-9e5f-3dc333ae4c88",
   "metadata": {},
   "source": [
    "- Exemplo de arquivo yml especificando canal conda: `env2.yml`"
   ]
  },
  {
   "cell_type": "raw",
   "id": "8edee26d-d74f-43b2-b50b-b344e5dbd256",
   "metadata": {},
   "source": [
    "name: env2\n",
    "dependencies:\n",
    "  - jupyter\n",
    "  - pillow\n",
    "  - scikit-learn\n",
    "  - conda-forge::blackcellmagic"
   ]
  },
  {
   "cell_type": "markdown",
   "id": "bdccdc24-dcd2-4f09-a918-cecd853ef84c",
   "metadata": {
    "tags": []
   },
   "source": [
    "- Exemplo de arquivo yml especificando pacote instalado com pip: `env3.yml`"
   ]
  },
  {
   "cell_type": "raw",
   "id": "4216eb5f-b1ca-4fc2-b170-26f35d72f124",
   "metadata": {},
   "source": [
    "name: env3\n",
    "dependencies:\n",
    "  - jupyter\n",
    "  - pillow\n",
    "  - scikit-learn\n",
    "  - conda-forge::blackcellmagic\n",
    "  - pip:\n",
    "   - lxml"
   ]
  },
  {
   "cell_type": "markdown",
   "id": "728fad2f-7a6c-43f2-bd3a-9a161ebfae23",
   "metadata": {},
   "source": [
    "- Criação de um ambiente conda usando o arquivo `env3.yml`:\n",
    " \n",
    "```\n",
    "conda env create -f env3.yml\n",
    "```\n",
    " \n",
    " - Registro do ambiente atual na lista de kernels do Jupyter:\n",
    "\n",
    "```\n",
    "pip install ipykernel\n",
    "python -m ipykernel install --user --name <nome que vai aparecer no Jupyter>\n",
    "```\n",
    "\n",
    "- Lista dos kernels registrados no Jupyter (Lembrando que esse comando só pode ser executado a partir de um ambiente que tenha o Jupter instalado):\n",
    "```\n",
    "jupyter kernelspec list\n",
    "```\n",
    "\n",
    "- Remoção de um kernel da lista de kernels do Jupyter:\n",
    "```\n",
    "jupyter kernelspec uninstall <kernel>\n",
    "```\n"
   ]
  },
  {
   "cell_type": "markdown",
   "id": "8446b056-16a8-4ad0-b5b4-96978013321d",
   "metadata": {},
   "source": [
    "## Testes mostrados no vídeo"
   ]
  },
  {
   "cell_type": "markdown",
   "id": "1554b0a2-64ad-4c3b-a199-d45ff8472cd5",
   "metadata": {},
   "source": [
    "- Programa usado no teste:kernelspec"
   ]
  },
  {
   "cell_type": "code",
   "execution_count": 1,
   "id": "856f263c-67c9-4c05-bcea-c0ea68141992",
   "metadata": {},
   "outputs": [
    {
     "name": "stdout",
     "output_type": "stream",
     "text": [
      "bla\n"
     ]
    }
   ],
   "source": [
    "import numpy as np\n",
    "import matplotlib.pyplot as plt\n",
    "from time import sleep\n",
    "\n",
    "sleep(15)\n",
    "\n",
    "x = 'bla'\n",
    "\n",
    "with open('texto.txt', 'w') as f:\n",
    "    f.write(x) \n",
    "\n",
    "print(x)"
   ]
  }
 ],
 "metadata": {
  "kernelspec": {
   "display_name": "mambaforge-main",
   "language": "python",
   "name": "mambaforge-main"
  },
  "language_info": {
   "codemirror_mode": {
    "name": "ipython",
    "version": 3
   },
   "file_extension": ".py",
   "mimetype": "text/x-python",
   "name": "python",
   "nbconvert_exporter": "python",
   "pygments_lexer": "ipython3",
   "version": "3.9.15"
  }
 },
 "nbformat": 4,
 "nbformat_minor": 5
}
