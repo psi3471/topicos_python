{
 "cells": [
  {
   "cell_type": "markdown",
   "id": "ee609aae-4f35-4681-90d9-7832368e4a0c",
   "metadata": {},
   "source": [
    "# 4 - Google Colab"
   ]
  },
  {
   "cell_type": "markdown",
   "id": "b14b39c3-1f20-471b-acfd-3ff86123d886",
   "metadata": {},
   "source": [
    "- Integração com o Github:\n",
    "  - Subtituir domínio `github.com` por `githubtoclab.com`, por exemplo:\n",
    "\n",
    "https://githubtocolab.com/renatocan/scipy-meetup-2020-02/blob/master/x1x2.ipynb"
   ]
  },
  {
   "cell_type": "markdown",
   "id": "3ab59815-2986-4562-a656-107d9d1dce81",
   "metadata": {},
   "source": [
    "- Perguntas frequentes sobre o Google Colab: https://research.google.com/colaboratory/faq.html"
   ]
  },
  {
   "cell_type": "markdown",
   "id": "797f768e-3539-4786-aacd-c3364caa8f4a",
   "metadata": {},
   "source": [
    "- Para instalar um pacote pip, por exemplo, o `rich`:\n",
    "\n",
    "```\n",
    "!pip install rich\n",
    "```"
   ]
  },
  {
   "cell_type": "markdown",
   "id": "1c373f2b-f16e-41dc-9e5f-3dc333ae4c88",
   "metadata": {},
   "source": [
    "- Para instalar um pacote conda:\n",
    "\n",
    "1) Instalar o pacote pip `condacolab`:\n",
    "\n",
    "```\n",
    "!pip install condacolab\n",
    "```\n",
    "\n",
    "2) Executar:\n",
    "\n",
    "```\n",
    "import condacolab\n",
    "condacolab.install()\n",
    "```\n",
    " \n",
    "3) Instalar o pacote conda, por exemplo, o `beautifulsoup4`:\n",
    "\n",
    "```\n",
    "!conda install -c anaconda beautifulsoup4\n",
    "condacolab.install()\n",
    "```"
   ]
  }
 ],
 "metadata": {
  "kernelspec": {
   "display_name": "mambaforge-main",
   "language": "python",
   "name": "mambaforge-main"
  },
  "language_info": {
   "codemirror_mode": {
    "name": "ipython",
    "version": 3
   },
   "file_extension": ".py",
   "mimetype": "text/x-python",
   "name": "python",
   "nbconvert_exporter": "python",
   "pygments_lexer": "ipython3",
   "version": "3.9.15"
  }
 },
 "nbformat": 4,
 "nbformat_minor": 5
}
