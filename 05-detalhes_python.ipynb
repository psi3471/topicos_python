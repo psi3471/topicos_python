{
 "cells": [
  {
   "cell_type": "markdown",
   "id": "0b41eb20-7c82-44ec-ab85-1fba9a5e9961",
   "metadata": {},
   "source": [
    "# 5 - Alguns detalhes do Python"
   ]
  },
  {
   "cell_type": "markdown",
   "id": "29bd10b4-e164-41ae-af52-8d2bce0e128a",
   "metadata": {},
   "source": [
    "## Guia de comandos"
   ]
  },
  {
   "cell_type": "markdown",
   "id": "71e092b9-f9c0-4f7b-aaa7-5c3029f8d2c9",
   "metadata": {},
   "source": [
    "- Retorna o tipo de um objeto qualquer\n",
    "```\n",
    "type(objeto)\n",
    "```\n",
    "\n",
    "- Retorna o id (identificação única) de um objeto\n",
    "```\n",
    "id(objeto)\n",
    "```\n",
    "\n",
    "- Cópia rasa (shallow copy)\n",
    "```\n",
    "import copy\n",
    "objeto2 = copy.copy(objeto)\n",
    "```\n",
    "- Cópia profunda (deep copy)\n",
    "```\n",
    "import copy\n",
    "objeto2 = copy.deepcopy(objeto)\n",
    "```\n",
    "\n",
    "- Indexação e fatiamento (indexing, slicing)\n",
    "  - Primeiro elemento: `objeto[0]`\n",
    "  - Último elemento: `objeto[-1]`\n",
    "  - Penúltimo elemento: `objeto[-2]`\n",
    "  - Slicing do índice 0 até índice 4 (5-1): `objeto[0:5]`\n",
    "  - Slicing do índice 0 até o penúltimo: `objeto[0:-1]`\n",
    "  - Slicing do índice 0 até o último: `objeto[0:]`\n",
    "  - Slicing do índice 0 até o índice 4 (5-1) com salto de 2: `objeto[0:5:2]`\n",
    "  - Slicing do índice 1 até o final com salto de 2: `objeto[1::2]`\n",
    "  - Inversão da ordem dos itens: `objeto[-1::-1]`\n"
   ]
  },
  {
   "cell_type": "markdown",
   "id": "52903897-86f1-4a5a-b834-340ce4985fa7",
   "metadata": {},
   "source": [
    "## Testes mostrados no vídeo"
   ]
  },
  {
   "cell_type": "markdown",
   "id": "af7479f1-f698-49dc-b00c-29b279e87b10",
   "metadata": {},
   "source": [
    "### Tipagem Dinâmica"
   ]
  },
  {
   "cell_type": "code",
   "execution_count": 1,
   "id": "755f4cbd-40c1-4a93-890b-3f993e0586ab",
   "metadata": {},
   "outputs": [],
   "source": [
    "x1 = 1"
   ]
  },
  {
   "cell_type": "code",
   "execution_count": 2,
   "id": "3b4f570a-1a38-4303-89f8-53f3b921e8d8",
   "metadata": {},
   "outputs": [
    {
     "data": {
      "text/plain": [
       "int"
      ]
     },
     "execution_count": 2,
     "metadata": {},
     "output_type": "execute_result"
    }
   ],
   "source": [
    "type(x1)"
   ]
  },
  {
   "cell_type": "code",
   "execution_count": 3,
   "id": "fa34a8fa-d6ec-43ee-9335-706735177919",
   "metadata": {},
   "outputs": [],
   "source": [
    "x2 = 1.5"
   ]
  },
  {
   "cell_type": "code",
   "execution_count": 4,
   "id": "99a0288a-9e8a-4cf0-81c2-3ef522ac05cb",
   "metadata": {},
   "outputs": [
    {
     "data": {
      "text/plain": [
       "float"
      ]
     },
     "execution_count": 4,
     "metadata": {},
     "output_type": "execute_result"
    }
   ],
   "source": [
    "type(x2)"
   ]
  },
  {
   "cell_type": "code",
   "execution_count": 5,
   "id": "4687ac1b-1911-4041-b590-42e18c7aede1",
   "metadata": {},
   "outputs": [],
   "source": [
    "x3 = 1."
   ]
  },
  {
   "cell_type": "code",
   "execution_count": 6,
   "id": "df54c161-4e78-492c-a2ae-80e5c482334c",
   "metadata": {},
   "outputs": [
    {
     "data": {
      "text/plain": [
       "float"
      ]
     },
     "execution_count": 6,
     "metadata": {},
     "output_type": "execute_result"
    }
   ],
   "source": [
    "type(x3)"
   ]
  },
  {
   "cell_type": "code",
   "execution_count": 7,
   "id": "dd933c4c-be22-41bf-90ef-c4f9a3d3c51a",
   "metadata": {},
   "outputs": [],
   "source": [
    "x4 = 2 + 4j"
   ]
  },
  {
   "cell_type": "code",
   "execution_count": 8,
   "id": "69a2b5ee-0762-4d8d-8faf-2503038fc0e0",
   "metadata": {},
   "outputs": [
    {
     "data": {
      "text/plain": [
       "complex"
      ]
     },
     "execution_count": 8,
     "metadata": {},
     "output_type": "execute_result"
    }
   ],
   "source": [
    "type(x4)"
   ]
  },
  {
   "cell_type": "markdown",
   "id": "930bd00c-a6bb-44ed-b0e1-0e3aa94162e3",
   "metadata": {},
   "source": [
    "### Divisão"
   ]
  },
  {
   "cell_type": "code",
   "execution_count": 9,
   "id": "e07dace6-9bf6-4448-b4a6-4d811be981ca",
   "metadata": {},
   "outputs": [],
   "source": [
    "# Divisão retorna float\n",
    "x5 = 4/2"
   ]
  },
  {
   "cell_type": "code",
   "execution_count": 10,
   "id": "ce33e7ff-2a8b-4ac3-867c-7b075af12686",
   "metadata": {},
   "outputs": [
    {
     "data": {
      "text/plain": [
       "float"
      ]
     },
     "execution_count": 10,
     "metadata": {},
     "output_type": "execute_result"
    }
   ],
   "source": [
    "type(x5)"
   ]
  },
  {
   "cell_type": "code",
   "execution_count": 11,
   "id": "3def6bf0-2725-4bc5-b3c1-5409b3159927",
   "metadata": {},
   "outputs": [
    {
     "name": "stdout",
     "output_type": "stream",
     "text": [
      "2.0\n"
     ]
    }
   ],
   "source": [
    "print(x5)"
   ]
  },
  {
   "cell_type": "code",
   "execution_count": 12,
   "id": "ae9bfe16-d42c-47b5-a072-1320deb9fced",
   "metadata": {},
   "outputs": [],
   "source": [
    "# Divisão inteira\n",
    "x6 = 4//2"
   ]
  },
  {
   "cell_type": "code",
   "execution_count": 13,
   "id": "a2686cb1-03fa-436f-8218-29eabc47b905",
   "metadata": {},
   "outputs": [
    {
     "data": {
      "text/plain": [
       "int"
      ]
     },
     "execution_count": 13,
     "metadata": {},
     "output_type": "execute_result"
    }
   ],
   "source": [
    "type(x6)"
   ]
  },
  {
   "cell_type": "code",
   "execution_count": 14,
   "id": "8dbd7dbc-2dfe-439e-ad5c-2fed29c61dfd",
   "metadata": {},
   "outputs": [
    {
     "name": "stdout",
     "output_type": "stream",
     "text": [
      "2\n"
     ]
    }
   ],
   "source": [
    "print(x6)"
   ]
  },
  {
   "cell_type": "code",
   "execution_count": 15,
   "id": "dbddef69-f75b-48c8-86ff-8fb6a7c39bba",
   "metadata": {},
   "outputs": [],
   "source": [
    "x7 = 5//2"
   ]
  },
  {
   "cell_type": "code",
   "execution_count": 16,
   "id": "93e55e73-f032-41e0-8c99-4317a76bccd4",
   "metadata": {},
   "outputs": [
    {
     "name": "stdout",
     "output_type": "stream",
     "text": [
      "2\n"
     ]
    }
   ],
   "source": [
    "print(x7)"
   ]
  },
  {
   "cell_type": "code",
   "execution_count": 17,
   "id": "14b15625-39db-47c0-b461-65c4f947d953",
   "metadata": {},
   "outputs": [
    {
     "data": {
      "text/plain": [
       "int"
      ]
     },
     "execution_count": 17,
     "metadata": {},
     "output_type": "execute_result"
    }
   ],
   "source": [
    "type(x7)"
   ]
  },
  {
   "cell_type": "code",
   "execution_count": 18,
   "id": "f090e11e-545a-49d6-8847-f362bdef1fe8",
   "metadata": {},
   "outputs": [
    {
     "data": {
      "text/plain": [
       "1"
      ]
     },
     "execution_count": 18,
     "metadata": {},
     "output_type": "execute_result"
    }
   ],
   "source": [
    "# Resto\n",
    "5%2"
   ]
  },
  {
   "cell_type": "markdown",
   "id": "6036f073-6025-4a62-879b-e4eb6bf9074c",
   "metadata": {},
   "source": [
    "### Tags"
   ]
  },
  {
   "cell_type": "code",
   "execution_count": 19,
   "id": "8a0aa5ff-a476-444b-9b3a-9764e32a4a2b",
   "metadata": {},
   "outputs": [],
   "source": [
    "a = [0, 0, 0]"
   ]
  },
  {
   "cell_type": "code",
   "execution_count": 20,
   "id": "9b4f76a1-210e-48f8-9cd8-3396b4ba86c9",
   "metadata": {},
   "outputs": [
    {
     "data": {
      "text/plain": [
       "[0, 0, 0]"
      ]
     },
     "execution_count": 20,
     "metadata": {},
     "output_type": "execute_result"
    }
   ],
   "source": [
    "a"
   ]
  },
  {
   "cell_type": "code",
   "execution_count": 21,
   "id": "2378d63f-b788-42d8-9c6b-bc88d6025850",
   "metadata": {},
   "outputs": [],
   "source": [
    "b = a"
   ]
  },
  {
   "cell_type": "code",
   "execution_count": 22,
   "id": "2642131a-2c47-44e5-a929-f373e7977953",
   "metadata": {},
   "outputs": [
    {
     "data": {
      "text/plain": [
       "[0, 0, 0]"
      ]
     },
     "execution_count": 22,
     "metadata": {},
     "output_type": "execute_result"
    }
   ],
   "source": [
    "b"
   ]
  },
  {
   "cell_type": "code",
   "execution_count": 23,
   "id": "39c8b471-d15b-4488-aaf4-649014954cd5",
   "metadata": {},
   "outputs": [],
   "source": [
    "b[0] = 1"
   ]
  },
  {
   "cell_type": "code",
   "execution_count": 24,
   "id": "ea509ed0-fa60-4258-aa02-d9014f38fc1c",
   "metadata": {},
   "outputs": [
    {
     "data": {
      "text/plain": [
       "[1, 0, 0]"
      ]
     },
     "execution_count": 24,
     "metadata": {},
     "output_type": "execute_result"
    }
   ],
   "source": [
    "b"
   ]
  },
  {
   "cell_type": "code",
   "execution_count": 25,
   "id": "e534ea3b-558d-4a51-bb62-828c6b977ce7",
   "metadata": {},
   "outputs": [
    {
     "data": {
      "text/plain": [
       "[1, 0, 0]"
      ]
     },
     "execution_count": 25,
     "metadata": {},
     "output_type": "execute_result"
    }
   ],
   "source": [
    "a"
   ]
  },
  {
   "cell_type": "code",
   "execution_count": 26,
   "id": "0a6be848-ba24-4678-998f-ab225e909d8c",
   "metadata": {},
   "outputs": [
    {
     "data": {
      "text/plain": [
       "140056206661120"
      ]
     },
     "execution_count": 26,
     "metadata": {},
     "output_type": "execute_result"
    }
   ],
   "source": [
    "id(a)"
   ]
  },
  {
   "cell_type": "code",
   "execution_count": 27,
   "id": "5ad66a25-d2db-4bfb-983c-19c05e3dc7f2",
   "metadata": {},
   "outputs": [
    {
     "data": {
      "text/plain": [
       "140056206661120"
      ]
     },
     "execution_count": 27,
     "metadata": {},
     "output_type": "execute_result"
    }
   ],
   "source": [
    "id(b)"
   ]
  },
  {
   "cell_type": "markdown",
   "id": "f38d564b-76b5-40bd-9531-1907dd9076fb",
   "metadata": {},
   "source": [
    "Objetos `a` e `b` têm o mesmo id"
   ]
  },
  {
   "cell_type": "code",
   "execution_count": 28,
   "id": "ef70caa5-8644-4151-aa7b-7fc427b25a49",
   "metadata": {},
   "outputs": [],
   "source": [
    "a = [0, 0, 0]"
   ]
  },
  {
   "cell_type": "code",
   "execution_count": 29,
   "id": "6ab3f526-2ffb-43a4-97f0-431db164e081",
   "metadata": {},
   "outputs": [],
   "source": [
    "# Vários objetos disponibilizam o método copy(), mas nem todos\n",
    "b = a.copy()"
   ]
  },
  {
   "cell_type": "code",
   "execution_count": 30,
   "id": "445a5351-cec3-4d85-9ead-fb472fc70fb3",
   "metadata": {},
   "outputs": [
    {
     "data": {
      "text/plain": [
       "[0, 0, 0]"
      ]
     },
     "execution_count": 30,
     "metadata": {},
     "output_type": "execute_result"
    }
   ],
   "source": [
    "b"
   ]
  },
  {
   "cell_type": "code",
   "execution_count": 31,
   "id": "307e3735-0dfb-49c1-a4cc-af76dfea9918",
   "metadata": {},
   "outputs": [
    {
     "data": {
      "text/plain": [
       "140056206327552"
      ]
     },
     "execution_count": 31,
     "metadata": {},
     "output_type": "execute_result"
    }
   ],
   "source": [
    "id(a)"
   ]
  },
  {
   "cell_type": "code",
   "execution_count": 32,
   "id": "ac407c9f-7e8b-4ea8-910e-1af6c39cd47e",
   "metadata": {},
   "outputs": [
    {
     "data": {
      "text/plain": [
       "140056206323904"
      ]
     },
     "execution_count": 32,
     "metadata": {},
     "output_type": "execute_result"
    }
   ],
   "source": [
    "id(b)"
   ]
  },
  {
   "cell_type": "markdown",
   "id": "c288e8d0-eeca-4ca3-9d9a-77a712971f3f",
   "metadata": {},
   "source": [
    "### Shallow e Deep copy"
   ]
  },
  {
   "cell_type": "code",
   "execution_count": 33,
   "id": "a3104fb6-6681-4bad-9507-e042797e1db7",
   "metadata": {},
   "outputs": [],
   "source": [
    "# Quando o objeto não disponibiliza o método copy()\n",
    "import copy"
   ]
  },
  {
   "cell_type": "code",
   "execution_count": 34,
   "id": "22fd153f-7e43-42c5-a6db-28f93f1e0700",
   "metadata": {},
   "outputs": [
    {
     "data": {
      "text/plain": [
       "[[1, 2, 3], [4, 5, 6]]"
      ]
     },
     "execution_count": 34,
     "metadata": {},
     "output_type": "execute_result"
    }
   ],
   "source": [
    "A = [[1,2,3], [4,5,6]]\n",
    "A"
   ]
  },
  {
   "cell_type": "code",
   "execution_count": 35,
   "id": "5bfdf574-26a4-47ac-9950-7273e6370d09",
   "metadata": {},
   "outputs": [
    {
     "data": {
      "text/plain": [
       "[1, 2, 3]"
      ]
     },
     "execution_count": 35,
     "metadata": {},
     "output_type": "execute_result"
    }
   ],
   "source": [
    "A[0]"
   ]
  },
  {
   "cell_type": "code",
   "execution_count": 36,
   "id": "0c47e63d-590f-4c4f-a921-2055427fa5bd",
   "metadata": {},
   "outputs": [],
   "source": [
    "# Shallow copy\n",
    "B = copy.copy(A)"
   ]
  },
  {
   "cell_type": "code",
   "execution_count": 37,
   "id": "d666c1ee-25bd-45bc-b17b-31007aca9868",
   "metadata": {},
   "outputs": [
    {
     "data": {
      "text/plain": [
       "140056206324608"
      ]
     },
     "execution_count": 37,
     "metadata": {},
     "output_type": "execute_result"
    }
   ],
   "source": [
    "id(A)"
   ]
  },
  {
   "cell_type": "code",
   "execution_count": 38,
   "id": "c124eeec-6a95-4c15-ba04-c603c118bb41",
   "metadata": {},
   "outputs": [
    {
     "data": {
      "text/plain": [
       "140056206635072"
      ]
     },
     "execution_count": 38,
     "metadata": {},
     "output_type": "execute_result"
    }
   ],
   "source": [
    "id(B)"
   ]
  },
  {
   "cell_type": "code",
   "execution_count": 39,
   "id": "fa1a5611-ab4b-4ca3-8e61-e5a51ce72c1e",
   "metadata": {},
   "outputs": [
    {
     "data": {
      "text/plain": [
       "[1, 2, 3]"
      ]
     },
     "execution_count": 39,
     "metadata": {},
     "output_type": "execute_result"
    }
   ],
   "source": [
    "A[0]"
   ]
  },
  {
   "cell_type": "code",
   "execution_count": 40,
   "id": "053b69ef-3934-43b9-82ff-e2a3298aaef5",
   "metadata": {},
   "outputs": [
    {
     "data": {
      "text/plain": [
       "[1, 2, 3]"
      ]
     },
     "execution_count": 40,
     "metadata": {},
     "output_type": "execute_result"
    }
   ],
   "source": [
    "B[0]"
   ]
  },
  {
   "cell_type": "code",
   "execution_count": 41,
   "id": "b9011c2c-b1c9-44d0-9809-9b3f112a97fd",
   "metadata": {},
   "outputs": [
    {
     "data": {
      "text/plain": [
       "140056206335104"
      ]
     },
     "execution_count": 41,
     "metadata": {},
     "output_type": "execute_result"
    }
   ],
   "source": [
    "id(A[0])"
   ]
  },
  {
   "cell_type": "code",
   "execution_count": 42,
   "id": "02008e28-bf38-432a-a77b-9c78adb5bc5f",
   "metadata": {},
   "outputs": [
    {
     "data": {
      "text/plain": [
       "140056206335104"
      ]
     },
     "execution_count": 42,
     "metadata": {},
     "output_type": "execute_result"
    }
   ],
   "source": [
    "id(B[0])"
   ]
  },
  {
   "cell_type": "code",
   "execution_count": 43,
   "id": "f36da7e1-cd26-432f-b910-68ba31ebdd9b",
   "metadata": {},
   "outputs": [
    {
     "data": {
      "text/plain": [
       "1"
      ]
     },
     "execution_count": 43,
     "metadata": {},
     "output_type": "execute_result"
    }
   ],
   "source": [
    "A[0][0]"
   ]
  },
  {
   "cell_type": "code",
   "execution_count": 44,
   "id": "8a30a9d9-05a0-49ba-9812-b6f163ade5dd",
   "metadata": {},
   "outputs": [],
   "source": [
    "A[0][0] = 100"
   ]
  },
  {
   "cell_type": "code",
   "execution_count": 45,
   "id": "83af29f0-cb11-4610-b999-2b625e69d02e",
   "metadata": {},
   "outputs": [
    {
     "data": {
      "text/plain": [
       "[100, 2, 3]"
      ]
     },
     "execution_count": 45,
     "metadata": {},
     "output_type": "execute_result"
    }
   ],
   "source": [
    "A[0]"
   ]
  },
  {
   "cell_type": "code",
   "execution_count": 46,
   "id": "ddffe760-5be9-4955-9e45-405dfb78af87",
   "metadata": {},
   "outputs": [
    {
     "data": {
      "text/plain": [
       "[100, 2, 3]"
      ]
     },
     "execution_count": 46,
     "metadata": {},
     "output_type": "execute_result"
    }
   ],
   "source": [
    "B[0]"
   ]
  },
  {
   "cell_type": "code",
   "execution_count": 47,
   "id": "ccb6dbde-c590-4411-bcd0-2a7bbff05622",
   "metadata": {},
   "outputs": [],
   "source": [
    "A.append([7, 8, 9])"
   ]
  },
  {
   "cell_type": "code",
   "execution_count": 48,
   "id": "bed87b1b-4c07-4fe5-b33c-e62312725da2",
   "metadata": {},
   "outputs": [
    {
     "data": {
      "text/plain": [
       "[[100, 2, 3], [4, 5, 6], [7, 8, 9]]"
      ]
     },
     "execution_count": 48,
     "metadata": {},
     "output_type": "execute_result"
    }
   ],
   "source": [
    "A"
   ]
  },
  {
   "cell_type": "code",
   "execution_count": 49,
   "id": "aab39622-dc6e-439b-9f53-7515f1d9f663",
   "metadata": {},
   "outputs": [
    {
     "data": {
      "text/plain": [
       "[[100, 2, 3], [4, 5, 6]]"
      ]
     },
     "execution_count": 49,
     "metadata": {},
     "output_type": "execute_result"
    }
   ],
   "source": [
    "B"
   ]
  },
  {
   "cell_type": "code",
   "execution_count": 50,
   "id": "59089028-46b1-4f6d-94eb-4031f20eeb4e",
   "metadata": {},
   "outputs": [],
   "source": [
    "C = copy.deepcopy(A)"
   ]
  },
  {
   "cell_type": "code",
   "execution_count": 51,
   "id": "5a419073-18a7-44fc-83a2-db05713e199a",
   "metadata": {},
   "outputs": [
    {
     "data": {
      "text/plain": [
       "[[100, 2, 3], [4, 5, 6], [7, 8, 9]]"
      ]
     },
     "execution_count": 51,
     "metadata": {},
     "output_type": "execute_result"
    }
   ],
   "source": [
    "C"
   ]
  },
  {
   "cell_type": "code",
   "execution_count": 52,
   "id": "29be4140-5a82-481c-a219-c9c6ce0257c7",
   "metadata": {},
   "outputs": [
    {
     "data": {
      "text/plain": [
       "140056206335104"
      ]
     },
     "execution_count": 52,
     "metadata": {},
     "output_type": "execute_result"
    }
   ],
   "source": [
    "id(A[0])"
   ]
  },
  {
   "cell_type": "code",
   "execution_count": 53,
   "id": "5ba35626-b49e-4cd3-bdc3-83fd929aa0ae",
   "metadata": {},
   "outputs": [
    {
     "data": {
      "text/plain": [
       "140056206399296"
      ]
     },
     "execution_count": 53,
     "metadata": {},
     "output_type": "execute_result"
    }
   ],
   "source": [
    "id(C[0])"
   ]
  },
  {
   "cell_type": "code",
   "execution_count": 54,
   "id": "805f0940-8ac7-4c08-bcf5-88aa1e5e1db0",
   "metadata": {},
   "outputs": [],
   "source": [
    "# .copy() em listas faz uma cópia rasa (shallow copy)\n",
    "D = [[1,2,3], [4,5,6]]"
   ]
  },
  {
   "cell_type": "code",
   "execution_count": 55,
   "id": "5c9fc523-eb96-4042-b86a-aabdd647d1e2",
   "metadata": {},
   "outputs": [],
   "source": [
    "E = D.copy()"
   ]
  },
  {
   "cell_type": "code",
   "execution_count": 56,
   "id": "753f6cd2-1c9d-48d7-be02-4dddc68a0adc",
   "metadata": {},
   "outputs": [
    {
     "data": {
      "text/plain": [
       "140056206361344"
      ]
     },
     "execution_count": 56,
     "metadata": {},
     "output_type": "execute_result"
    }
   ],
   "source": [
    "id(D)"
   ]
  },
  {
   "cell_type": "code",
   "execution_count": 57,
   "id": "86632d22-2da9-46c1-851e-e9ec53133f34",
   "metadata": {},
   "outputs": [
    {
     "data": {
      "text/plain": [
       "140056206370368"
      ]
     },
     "execution_count": 57,
     "metadata": {},
     "output_type": "execute_result"
    }
   ],
   "source": [
    "id(E)"
   ]
  },
  {
   "cell_type": "code",
   "execution_count": 58,
   "id": "27dcb026-a973-4454-82aa-5a27ad0433d0",
   "metadata": {},
   "outputs": [
    {
     "data": {
      "text/plain": [
       "140056206373824"
      ]
     },
     "execution_count": 58,
     "metadata": {},
     "output_type": "execute_result"
    }
   ],
   "source": [
    "id(D[0])"
   ]
  },
  {
   "cell_type": "code",
   "execution_count": 59,
   "id": "fe574499-848a-4513-8fd2-a99ce11f2964",
   "metadata": {},
   "outputs": [
    {
     "data": {
      "text/plain": [
       "140056206373824"
      ]
     },
     "execution_count": 59,
     "metadata": {},
     "output_type": "execute_result"
    }
   ],
   "source": [
    "id(E[0])"
   ]
  },
  {
   "cell_type": "markdown",
   "id": "62ba670c-ed22-4793-9d2f-98b7ddee3c6a",
   "metadata": {},
   "source": [
    "### Indexing e slicing"
   ]
  },
  {
   "cell_type": "code",
   "execution_count": 60,
   "id": "985bb279-ff83-4cf1-8121-d898bce5dd16",
   "metadata": {},
   "outputs": [
    {
     "data": {
      "text/plain": [
       "[1, 2, 3, 4, 5, 6]"
      ]
     },
     "execution_count": 60,
     "metadata": {},
     "output_type": "execute_result"
    }
   ],
   "source": [
    "a = [1,2,3,4,5,6]\n",
    "a"
   ]
  },
  {
   "cell_type": "code",
   "execution_count": 61,
   "id": "92a8c237-f292-446e-bd0b-8bfaafe7b07d",
   "metadata": {},
   "outputs": [
    {
     "data": {
      "text/plain": [
       "1"
      ]
     },
     "execution_count": 61,
     "metadata": {},
     "output_type": "execute_result"
    }
   ],
   "source": [
    "# Primeiro elemento\n",
    "a[0]"
   ]
  },
  {
   "cell_type": "code",
   "execution_count": 62,
   "id": "95f51696-e92b-4356-935a-7a8590690adf",
   "metadata": {},
   "outputs": [
    {
     "data": {
      "text/plain": [
       "2"
      ]
     },
     "execution_count": 62,
     "metadata": {},
     "output_type": "execute_result"
    }
   ],
   "source": [
    "# Segundo elemento\n",
    "a[1]"
   ]
  },
  {
   "cell_type": "code",
   "execution_count": 63,
   "id": "83bb554a-28ea-4baf-a6af-0e3d7d1e4f5b",
   "metadata": {},
   "outputs": [
    {
     "data": {
      "text/plain": [
       "6"
      ]
     },
     "execution_count": 63,
     "metadata": {},
     "output_type": "execute_result"
    }
   ],
   "source": [
    "# Último elemento\n",
    "a[-1]"
   ]
  },
  {
   "cell_type": "code",
   "execution_count": 64,
   "id": "dad5a56e-d798-491c-a403-789ac44439dc",
   "metadata": {},
   "outputs": [
    {
     "data": {
      "text/plain": [
       "5"
      ]
     },
     "execution_count": 64,
     "metadata": {},
     "output_type": "execute_result"
    }
   ],
   "source": [
    "# Penúltimo elemento\n",
    "a[-2]"
   ]
  },
  {
   "cell_type": "code",
   "execution_count": 65,
   "id": "13a1a255-9deb-4dc4-af5d-cd666134b57e",
   "metadata": {},
   "outputs": [
    {
     "data": {
      "text/plain": [
       "[1, 2, 3, 4, 5]"
      ]
     },
     "execution_count": 65,
     "metadata": {},
     "output_type": "execute_result"
    }
   ],
   "source": [
    "# Slicing índice 0 até o índice 4 = 5-1\n",
    "a[0:5]"
   ]
  },
  {
   "cell_type": "code",
   "execution_count": 66,
   "id": "e9e3fb4b-72d1-4261-99cc-e8656578e80a",
   "metadata": {},
   "outputs": [
    {
     "data": {
      "text/plain": [
       "[1, 2, 3, 4, 5]"
      ]
     },
     "execution_count": 66,
     "metadata": {},
     "output_type": "execute_result"
    }
   ],
   "source": [
    "a[0:-1]"
   ]
  },
  {
   "cell_type": "code",
   "execution_count": 67,
   "id": "c5342eec-4574-4541-aab7-ac27fd332b5c",
   "metadata": {},
   "outputs": [
    {
     "data": {
      "text/plain": [
       "[2, 3, 4]"
      ]
     },
     "execution_count": 67,
     "metadata": {},
     "output_type": "execute_result"
    }
   ],
   "source": [
    "a[1:4]"
   ]
  },
  {
   "cell_type": "code",
   "execution_count": 68,
   "id": "985699be-bb94-45d8-8780-28c10691fb06",
   "metadata": {},
   "outputs": [
    {
     "data": {
      "text/plain": [
       "[3, 4, 5, 6]"
      ]
     },
     "execution_count": 68,
     "metadata": {},
     "output_type": "execute_result"
    }
   ],
   "source": [
    "a[2:]"
   ]
  },
  {
   "cell_type": "code",
   "execution_count": 69,
   "id": "c8c4993a-99ec-4c49-8c1d-00c22a54565a",
   "metadata": {},
   "outputs": [
    {
     "data": {
      "text/plain": [
       "[2, 4]"
      ]
     },
     "execution_count": 69,
     "metadata": {},
     "output_type": "execute_result"
    }
   ],
   "source": [
    "# Salto 2\n",
    "a[1:5:2] # índice 1 a 5-1=4 de 2 em 2"
   ]
  },
  {
   "cell_type": "code",
   "execution_count": 70,
   "id": "c9d30f59-f88b-4b25-9159-9e53858fecdc",
   "metadata": {},
   "outputs": [
    {
     "data": {
      "text/plain": [
       "[1, 2, 3, 4, 5, 6]"
      ]
     },
     "execution_count": 70,
     "metadata": {},
     "output_type": "execute_result"
    }
   ],
   "source": [
    "a"
   ]
  },
  {
   "cell_type": "code",
   "execution_count": 71,
   "id": "2f75d546-257d-4e80-9947-2728877c7d32",
   "metadata": {},
   "outputs": [
    {
     "data": {
      "text/plain": [
       "[2, 4, 6]"
      ]
     },
     "execution_count": 71,
     "metadata": {},
     "output_type": "execute_result"
    }
   ],
   "source": [
    "a[1::2]"
   ]
  },
  {
   "cell_type": "code",
   "execution_count": 72,
   "id": "c4919b90-6176-4cd8-8daf-c66c65045bad",
   "metadata": {},
   "outputs": [
    {
     "data": {
      "text/plain": [
       "[6, 5, 4, 3, 2, 1]"
      ]
     },
     "execution_count": 72,
     "metadata": {},
     "output_type": "execute_result"
    }
   ],
   "source": [
    "# De trás para frente\n",
    "a[-1::-1]"
   ]
  }
 ],
 "metadata": {
  "kernelspec": {
   "display_name": "mambaforge-main",
   "language": "python",
   "name": "mambaforge-main"
  },
  "language_info": {
   "codemirror_mode": {
    "name": "ipython",
    "version": 3
   },
   "file_extension": ".py",
   "mimetype": "text/x-python",
   "name": "python",
   "nbconvert_exporter": "python",
   "pygments_lexer": "ipython3",
   "version": "3.9.15"
  }
 },
 "nbformat": 4,
 "nbformat_minor": 5
}
