{
 "cells": [
  {
   "cell_type": "markdown",
   "id": "bbb554b7-ac27-4d28-902c-110dbf22a489",
   "metadata": {},
   "source": [
    "# 01 - Configurando o ambiente"
   ]
  },
  {
   "cell_type": "markdown",
   "id": "f4d36cc7-6f21-483c-b633-eca237b2376d",
   "metadata": {},
   "source": [
    "## Guia de comandos\n",
    "\n",
    "- Tutorial sobre set up do Python no Windows: https://realpython.com/python-windows-machine-learning-setup/\n",
    "\n",
    "- Lista os ambientes conda\n",
    "```\n",
    "conda env list\n",
    "```\n",
    "\n",
    "- Cria um ambiente chamado \"main\"\n",
    "```\n",
    "conda create --name main\n",
    "```\n",
    "\n",
    "- Ativa um ambiente\n",
    "```\n",
    "conda activate main\n",
    "```\n",
    "\n",
    "- Instala o pacote jupyter\n",
    "```\n",
    "conda install jupyter\n",
    "```\n",
    "\n",
    "- Listar pacotes de um ambiente conda\n",
    "```\n",
    "conda list\n",
    "```\n",
    "\n",
    "- Desativar um ambiente conda\n",
    "```\n",
    "conda deactivate\n",
    "```\n",
    "\n",
    "- Remover o ambiente conda chamado `main`\n",
    "```\n",
    "conda remove --name main --all\n",
    "```\n",
    "\n"
   ]
  }
 ],
 "metadata": {
  "kernelspec": {
   "display_name": "Python 3 (ipykernel)",
   "language": "python",
   "name": "python3"
  },
  "language_info": {
   "codemirror_mode": {
    "name": "ipython",
    "version": 3
   },
   "file_extension": ".py",
   "mimetype": "text/x-python",
   "name": "python",
   "nbconvert_exporter": "python",
   "pygments_lexer": "ipython3",
   "version": "3.9.15"
  }
 },
 "nbformat": 4,
 "nbformat_minor": 5
}
